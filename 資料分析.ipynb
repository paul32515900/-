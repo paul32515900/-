{
 "cells": [
  {
   "cell_type": "code",
   "execution_count": 1,
   "metadata": {},
   "outputs": [
    {
     "name": "stdout",
     "output_type": "stream",
     "text": [
      "Requirement already satisfied: numpy in c:\\users\\user\\appdata\\local\\packages\\pythonsoftwarefoundation.python.3.11_qbz5n2kfra8p0\\localcache\\local-packages\\python311\\site-packages (2.1.1)\n",
      "Note: you may need to restart the kernel to use updated packages.\n"
     ]
    },
    {
     "name": "stderr",
     "output_type": "stream",
     "text": [
      "\n",
      "[notice] A new release of pip is available: 24.0 -> 24.2\n",
      "[notice] To update, run: C:\\Users\\USER\\AppData\\Local\\Microsoft\\WindowsApps\\PythonSoftwareFoundation.Python.3.11_qbz5n2kfra8p0\\python.exe -m pip install --upgrade pip\n"
     ]
    }
   ],
   "source": [
    "pip install numpy\n"
   ]
  },
  {
   "cell_type": "code",
   "execution_count": 2,
   "metadata": {},
   "outputs": [
    {
     "name": "stdout",
     "output_type": "stream",
     "text": [
      "[[0.46420807 0.41123489 0.68366681]\n",
      " [0.02224999 0.63908784 0.6047601 ]\n",
      " [0.09463193 0.658496   0.73606612]\n",
      " [0.10023396 0.21098783 0.4195789 ]\n",
      " [0.77197669 0.53873693 0.78801659]]\n"
     ]
    }
   ],
   "source": [
    "import numpy as np\n",
    "n = 5  \n",
    "m = 3  \n",
    "matrix = np.random.uniform(low=0.0, high=1.0, size=(n, m))\n",
    "print(matrix)\n"
   ]
  },
  {
   "cell_type": "code",
   "execution_count": 8,
   "metadata": {},
   "outputs": [
    {
     "name": "stdout",
     "output_type": "stream",
     "text": [
      "Note: you may need to restart the kernel to use updated packages.\n"
     ]
    },
    {
     "name": "stderr",
     "output_type": "stream",
     "text": [
      "ERROR: Could not find a version that satisfies the requirement random (from versions: none)\n",
      "ERROR: No matching distribution found for random\n",
      "\n",
      "[notice] A new release of pip is available: 24.0 -> 24.2\n",
      "[notice] To update, run: C:\\Users\\USER\\AppData\\Local\\Microsoft\\WindowsApps\\PythonSoftwareFoundation.Python.3.11_qbz5n2kfra8p0\\python.exe -m pip install --upgrade pip\n"
     ]
    }
   ],
   "source": [
    "pip install random"
   ]
  },
  {
   "cell_type": "code",
   "execution_count": 3,
   "metadata": {},
   "outputs": [
    {
     "name": "stdout",
     "output_type": "stream",
     "text": [
      "[1, 1, 1, 0, 0, 1, 1, 1, 1, 0]\n"
     ]
    }
   ],
   "source": [
    "import random\n",
    "import string\n",
    "#投擲一些硬幣\n",
    "coins = random.choices([0, 1], k=10)\n",
    "print(coins)"
   ]
  },
  {
   "cell_type": "code",
   "execution_count": 23,
   "metadata": {},
   "outputs": [
    {
     "name": "stdout",
     "output_type": "stream",
     "text": [
      "[18, 74, 62, 70, 3, 21]\n"
     ]
    }
   ],
   "source": [
    "#選擇樂透號碼\n",
    "numbers = random.sample(range(1, 100), 6)\n",
    "print(numbers)"
   ]
  },
  {
   "cell_type": "code",
   "execution_count": 24,
   "metadata": {},
   "outputs": [
    {
     "name": "stdout",
     "output_type": "stream",
     "text": [
      "['v', 'd', 'y', 'n', 'a', 'r', 'x', 'i', 's', 'c', 'p', 'u', 'o', 'q', 'e', 'h', 'j', 'm', 'z', 'l', 'g', 'w', 'f', 't', 'b', 'k']\n"
     ]
    }
   ],
   "source": [
    "#字母 a-z 的排列組合\n",
    "letters = random.sample(string.ascii_lowercase, len(string.ascii_lowercase))\n",
    "print(letters)"
   ]
  },
  {
   "cell_type": "code",
   "execution_count": 6,
   "metadata": {},
   "outputs": [
    {
     "name": "stdout",
     "output_type": "stream",
     "text": [
      "[2 3 2 1 3 1 3 2 3 2 2 3 3 1 3 2 2 3 3 2 3 2 3 3 2 2 1 2 2 1 1 2 3 2 3 2 2\n",
      " 2 3 2 3 2 3 3 2 3 3 3 2 2 3 3 3 2 3 2 2 3 2 2 3 2 2 1 2 3 1 1 1 1 1 2 3 3\n",
      " 3 3 3 3 2 3 1 2 2 1 3 3 3 3 3 2 3 3 3 3 3 2 1 3 3 2]\n"
     ]
    }
   ],
   "source": [
    "##從多項分配抽樣\n",
    "x = np.random.choice([1, 2, 3], size=100, replace=True, p=[0.2, 0.3, 0.5])\n",
    "print(x)\n"
   ]
  },
  {
   "cell_type": "code",
   "execution_count": 7,
   "metadata": {},
   "outputs": [
    {
     "name": "stdout",
     "output_type": "stream",
     "text": [
      "[6 5 6 5 7 4 8 7 4 7 5 6 5 6 5 4 6 6 6 5 6 5 5 3 2 5 4 6 5 3 5 9 5 4 4 5 2\n",
      " 5 5 6 5 3 5 4 2 5 6 4 4 3 5 6 5 3 7 3 3 6 8 6 6 4 5 6 5 7 6 5 5 6 0 4 6 3\n",
      " 4 2 5 5 3 6 5 7 6 4 7 7 5 7 5 8 5 2 7 5 4 6 5 4 7 7]\n"
     ]
    }
   ],
   "source": [
    "import numpy as np\n",
    "random_samples = np.random.binomial(n=10, p=0.5, size=100)\n",
    "print(random_samples)"
   ]
  },
  {
   "cell_type": "code",
   "execution_count": 10,
   "metadata": {},
   "outputs": [
    {
     "name": "stdout",
     "output_type": "stream",
     "text": [
      "Collecting scipy\n",
      "  Downloading scipy-1.14.1-cp311-cp311-win_amd64.whl.metadata (60 kB)\n",
      "     ---------------------------------------- 0.0/60.8 kB ? eta -:--:--\n",
      "     ------------ ------------------------- 20.5/60.8 kB 330.3 kB/s eta 0:00:01\n",
      "     -------------------------------- ----- 51.2/60.8 kB 435.7 kB/s eta 0:00:01\n",
      "     -------------------------------------- 60.8/60.8 kB 463.7 kB/s eta 0:00:00\n",
      "Requirement already satisfied: numpy<2.3,>=1.23.5 in c:\\users\\user\\appdata\\local\\packages\\pythonsoftwarefoundation.python.3.11_qbz5n2kfra8p0\\localcache\\local-packages\\python311\\site-packages (from scipy) (2.1.1)\n",
      "Downloading scipy-1.14.1-cp311-cp311-win_amd64.whl (44.8 MB)\n",
      "   ---------------------------------------- 0.0/44.8 MB ? eta -:--:--\n",
      "   ---------------------------------------- 0.1/44.8 MB 1.7 MB/s eta 0:00:28\n",
      "   ---------------------------------------- 0.2/44.8 MB 2.3 MB/s eta 0:00:20\n",
      "   ---------------------------------------- 0.4/44.8 MB 2.8 MB/s eta 0:00:16\n",
      "    --------------------------------------- 0.6/44.8 MB 3.2 MB/s eta 0:00:14\n",
      "    --------------------------------------- 1.0/44.8 MB 4.3 MB/s eta 0:00:11\n",
      "   - -------------------------------------- 2.0/44.8 MB 7.2 MB/s eta 0:00:06\n",
      "   -- ------------------------------------- 2.3/44.8 MB 7.4 MB/s eta 0:00:06\n",
      "   -- ------------------------------------- 2.3/44.8 MB 7.4 MB/s eta 0:00:06\n",
      "   -- ------------------------------------- 3.3/44.8 MB 7.8 MB/s eta 0:00:06\n",
      "   --- ------------------------------------ 4.1/44.8 MB 8.8 MB/s eta 0:00:05\n",
      "   ---- ----------------------------------- 4.8/44.8 MB 9.3 MB/s eta 0:00:05\n",
      "   ---- ----------------------------------- 5.6/44.8 MB 9.9 MB/s eta 0:00:04\n",
      "   ------ --------------------------------- 6.8/44.8 MB 11.2 MB/s eta 0:00:04\n",
      "   ------- -------------------------------- 7.9/44.8 MB 12.0 MB/s eta 0:00:04\n",
      "   -------- ------------------------------- 9.1/44.8 MB 12.9 MB/s eta 0:00:03\n",
      "   --------- ------------------------------ 10.3/44.8 MB 14.9 MB/s eta 0:00:03\n",
      "   ---------- ----------------------------- 11.5/44.8 MB 18.7 MB/s eta 0:00:02\n",
      "   ----------- ---------------------------- 12.6/44.8 MB 22.6 MB/s eta 0:00:02\n",
      "   ------------ --------------------------- 13.8/44.8 MB 21.8 MB/s eta 0:00:02\n",
      "   ------------- -------------------------- 15.0/44.8 MB 24.2 MB/s eta 0:00:02\n",
      "   -------------- ------------------------- 16.1/44.8 MB 25.2 MB/s eta 0:00:02\n",
      "   --------------- ------------------------ 17.3/44.8 MB 25.2 MB/s eta 0:00:02\n",
      "   ---------------- ----------------------- 18.4/44.8 MB 25.2 MB/s eta 0:00:02\n",
      "   ----------------- ---------------------- 19.4/44.8 MB 24.2 MB/s eta 0:00:02\n",
      "   ------------------ --------------------- 20.4/44.8 MB 24.2 MB/s eta 0:00:02\n",
      "   ------------------ --------------------- 20.4/44.8 MB 24.2 MB/s eta 0:00:02\n",
      "   ------------------ --------------------- 20.5/44.8 MB 19.8 MB/s eta 0:00:02\n",
      "   -------------------- ------------------- 22.9/44.8 MB 21.8 MB/s eta 0:00:02\n",
      "   --------------------- ------------------ 23.9/44.8 MB 21.1 MB/s eta 0:00:01\n",
      "   ---------------------- ----------------- 24.9/44.8 MB 21.1 MB/s eta 0:00:01\n",
      "   ----------------------- ---------------- 25.9/44.8 MB 21.1 MB/s eta 0:00:01\n",
      "   ------------------------ --------------- 27.0/44.8 MB 20.5 MB/s eta 0:00:01\n",
      "   ------------------------- -------------- 28.0/44.8 MB 20.5 MB/s eta 0:00:01\n",
      "   ------------------------- -------------- 29.0/44.8 MB 20.5 MB/s eta 0:00:01\n",
      "   -------------------------- ------------- 30.1/44.8 MB 20.5 MB/s eta 0:00:01\n",
      "   --------------------------- ------------ 31.1/44.8 MB 24.2 MB/s eta 0:00:01\n",
      "   ---------------------------- ----------- 32.2/44.8 MB 22.6 MB/s eta 0:00:01\n",
      "   ----------------------------- ---------- 33.2/44.8 MB 21.9 MB/s eta 0:00:01\n",
      "   ------------------------------ --------- 34.3/44.8 MB 21.8 MB/s eta 0:00:01\n",
      "   ------------------------------- -------- 35.4/44.8 MB 21.8 MB/s eta 0:00:01\n",
      "   -------------------------------- ------- 36.4/44.8 MB 22.6 MB/s eta 0:00:01\n",
      "   --------------------------------- ------ 37.5/44.8 MB 22.6 MB/s eta 0:00:01\n",
      "   ---------------------------------- ----- 38.6/44.8 MB 22.6 MB/s eta 0:00:01\n",
      "   ----------------------------------- ---- 39.6/44.8 MB 22.5 MB/s eta 0:00:01\n",
      "   ------------------------------------ --- 40.7/44.8 MB 22.6 MB/s eta 0:00:01\n",
      "   ------------------------------------- -- 41.8/44.8 MB 22.6 MB/s eta 0:00:01\n",
      "   -------------------------------------- - 42.9/44.8 MB 22.6 MB/s eta 0:00:01\n",
      "   ---------------------------------------  43.9/44.8 MB 22.6 MB/s eta 0:00:01\n",
      "   ---------------------------------------  44.8/44.8 MB 22.6 MB/s eta 0:00:01\n",
      "   ---------------------------------------- 44.8/44.8 MB 20.4 MB/s eta 0:00:00\n",
      "Installing collected packages: scipy\n",
      "Successfully installed scipy-1.14.1\n",
      "Note: you may need to restart the kernel to use updated packages.\n"
     ]
    },
    {
     "name": "stderr",
     "output_type": "stream",
     "text": [
      "\n",
      "[notice] A new release of pip is available: 24.0 -> 24.2\n",
      "[notice] To update, run: C:\\Users\\USER\\AppData\\Local\\Microsoft\\WindowsApps\\PythonSoftwareFoundation.Python.3.11_qbz5n2kfra8p0\\python.exe -m pip install --upgrade pip\n"
     ]
    }
   ],
   "source": [
    "pip install scipy\n"
   ]
  },
  {
   "cell_type": "code",
   "execution_count": 21,
   "metadata": {},
   "outputs": [
    {
     "name": "stdout",
     "output_type": "stream",
     "text": [
      "PMF (P(X = x)): 0.11718749999999999\n",
      "CDF (P(X ≤ x)): 0.171875\n",
      "PPF (Quantile): 6.0\n",
      "Random Samples: [7 5 2 5 7]\n"
     ]
    }
   ],
   "source": [
    "import numpy as np \n",
    "from scipy.stats import binom \n",
    "size = 10\n",
    "prob = 0.5\n",
    "x = 3\n",
    "p = 0.8\n",
    "n = 5\n",
    "\n",
    "# PMF 對應dbinom\n",
    "pmf_value = binom.pmf(x, size, prob)\n",
    "print(\"PMF (P(X = x)):\",pmf_value)\n",
    "\n",
    "#CDF 對應pbinom\n",
    "cdf_value = binom.cdf(x,size,prob)\n",
    "print(\"CDF (P(X ≤ x)):\",cdf_value)\n",
    "\n",
    "# 分位數函數 對應 qbinom\n",
    "ppf_value = binom.ppf(p,size,prob)\n",
    "print(\"PPF (Quantile):\",ppf_value)\n",
    "\n",
    "#隨機變數產生 對應 rbinom\n",
    "random_samples = np.random.binomial(size,prob, size=n)\n",
    "print(\"Random Samples:\",random_samples)"
   ]
  },
  {
   "cell_type": "markdown",
   "metadata": {},
   "source": [
    "分布                               CDF                                產生器                                參數\n",
    "beta                        scipy.stats.beta.cdf               scipy.stats.beta.rvs                 a (shape1), b (shape2)\n",
    "binomial                    scipy.stats.binom.cdf              numpy.random.binomial                n (size), p (prob)\n",
    "chi-squared                 scipy.stats.chi2.cdf               numpy.random.chisquare               df (degrees of freedom)\n",
    "exponential                 scipy.stats.expon.cdf              numpy.random.exponential             scale (1/rate)\n",
    "gamma                       scipy.stats.gamma.cdf              scipy.stats.gamma.rvs                shape (a), scale (1/rate)\n",
    "geometric                   scipy.stats.geom.cdf               numpy.random.geometric               p (prob)\n",
    "lognormal                   scipy.stats.lognorm.cdf\t           numpy.random.lognormal               meanlog, sdlog\n",
    "negative binomial           scipy.stats.nbinom.cdf             numpy.random.negative_binomial\t    n (size), p (prob)\n",
    "normal                      scipy.stats.norm.cdf               numpy.random.normal                  loc (mean), scale (sd)\n",
    "Poisson                     scipy.stats.poisson.cdf\t           numpy.random.poisson                 lam (lambda)\n",
    "Student's t                 scipy.stats.t.cdf                  scipy.stats.t.rvs                    df (degrees of freedom)\n",
    "uniform                     scipy.stats.uniform.cdf            numpy.random.uniform                 low (min), high (max)"
   ]
  },
  {
   "cell_type": "code",
   "execution_count": 12,
   "metadata": {},
   "outputs": [
    {
     "data": {
      "text/plain": [
       "array([ 6.57152245,  6.004335  ,  1.79872284,  0.43706108,  8.38404472,\n",
       "        3.50761793,  1.67626993,  3.32493307,  1.5989461 ,  3.81188164,\n",
       "        4.96224929,  5.72661673,  1.37253318,  0.01623601,  5.36259684,\n",
       "        4.25215188,  8.09056984,  3.64956304,  8.12430517,  5.19330903,\n",
       "        9.13823528,  3.46195046,  2.25974212,  5.85815048,  3.22027849,\n",
       "        4.65110191,  6.07756742, 12.13702297,  3.70780361,  3.65786861,\n",
       "        2.53287818,  4.10158491,  1.51344189,  1.41010392,  3.35708988,\n",
       "        5.47983288,  2.13981118,  3.36555129,  6.26829647,  9.50320123,\n",
       "        6.05032336,  6.2164269 ,  2.90918405,  7.61074147,  5.41513744,\n",
       "        5.11781768,  1.91784857,  5.47162193,  3.56925768,  1.56251481,\n",
       "        4.2676131 ,  4.0041958 ,  5.04612157,  2.61988243,  6.01671828,\n",
       "        3.11989654,  2.4601276 ,  0.9695625 ,  4.30239632,  1.70723691,\n",
       "        3.87686796,  2.89581518,  3.18514156,  1.72758298,  5.75319192,\n",
       "        8.2117566 ,  1.11357145,  2.31743741,  7.60045234,  3.28209905,\n",
       "        6.80971545,  1.54834929,  3.69549534,  1.59106504,  2.81125742,\n",
       "        3.32678634,  3.5925151 ,  0.75771795,  5.23903949,  6.95499023,\n",
       "        3.89637713,  3.83557462,  3.78754775,  7.20927414,  2.28727381,\n",
       "        1.52069251,  8.99191502,  6.40210086,  5.92208966,  5.57090666,\n",
       "        4.49463495,  4.0544334 ,  1.8463425 ,  5.2966227 ,  6.86991983,\n",
       "        1.96015277,  5.10146685,  2.25656448,  7.07876681,  3.09721703])"
      ]
     },
     "execution_count": 12,
     "metadata": {},
     "output_type": "execute_result"
    }
   ],
   "source": [
    "from scipy.stats import gamma\n",
    "random_samples = gamma.rvs(a=2, scale=1/0.5, size=100)  # shape=2, rate=0.5\n",
    "random_samples"
   ]
  },
  {
   "cell_type": "code",
   "execution_count": 30,
   "metadata": {},
   "outputs": [
    {
     "data": {
      "text/plain": [
       "np.float64(0.9984)"
      ]
     },
     "execution_count": 30,
     "metadata": {},
     "output_type": "execute_result"
    }
   ],
   "source": [
    "from scipy.stats import beta\n",
    "beta_sample = beta.cdf(x=0.8,a=2, b=5)\n",
    "beta_sample\n"
   ]
  },
  {
   "cell_type": "code",
   "execution_count": 32,
   "metadata": {},
   "outputs": [
    {
     "name": "stdout",
     "output_type": "stream",
     "text": [
      "[0.43160057 0.4424157  0.6150302  0.79899166 0.69511033 0.94500947\n",
      " 0.72066034 0.35506697 0.89601603 0.7907223  0.86181994 0.80447861\n",
      " 0.79225812 0.88090791 0.73457882 0.91848662 0.90070486 0.71207023\n",
      " 0.93874234 0.5565632  0.98422492 0.86754968 0.51780926 0.75855862\n",
      " 0.49153584 0.87907779 0.68362748 0.8056702  0.49503264 0.69773046\n",
      " 0.98075083 0.88346343 0.97177961 0.99693008 0.87871179 0.64540095\n",
      " 0.80732451 0.39025088 0.55154065 0.74788569 0.64531542 0.99512856\n",
      " 0.75489364 0.83133749 0.56823127 0.35389006 0.99365284 0.87482672\n",
      " 0.40507541 0.91012524 0.75090706 0.65363253 0.64886773 0.98097164\n",
      " 0.85950108 0.9674469  0.57920063 0.56342739 0.74735143 0.74378742\n",
      " 0.95812143 0.99445831 0.77219451 0.79267317 0.99451802 0.93220649\n",
      " 0.48184604 0.84702821 0.70860012 0.60535699 0.95182435 0.81226254\n",
      " 0.90703159 0.48929083 0.40192283 0.97773718 0.50562693 0.78935052\n",
      " 0.70054141 0.9521107  0.74525696 0.95346789 0.72293094 0.50696693\n",
      " 0.91817655 0.92453781 0.65168965 0.5880124  0.26809576 0.77054553\n",
      " 0.8410827  0.80649241 0.33931712 0.34658897 0.70276665 0.97097632\n",
      " 0.71758481 0.69870291 0.80442164 0.31511122 0.69389634 0.5252547\n",
      " 0.60550469 0.77869411 0.62302049 0.99321028 0.89035174 0.57326121\n",
      " 0.86856478 0.28405242 0.97103762 0.48468336 0.94463845 0.88191386\n",
      " 0.87160135 0.41785658 0.98271568 0.56391198 0.99650348 0.82503021\n",
      " 0.95362458 0.62297287 0.7236539  0.48400361 0.88009236 0.98479104\n",
      " 0.87002125 0.7383361  0.30819815 0.40788742 0.5290269  0.91150136\n",
      " 0.9174457  0.58157956 0.97410273 0.99113991 0.71752249 0.84499125\n",
      " 0.82491674 0.56300806 0.56633635 0.34938093 0.94031736 0.8218019\n",
      " 0.87290754 0.98901009 0.65296426 0.59076806 0.83588235 0.64681787\n",
      " 0.77031357 0.91226053 0.35596514 0.83343672 0.82102972 0.68230262\n",
      " 0.85442691 0.96619859 0.68215459 0.60269758 0.6407992  0.96099257\n",
      " 0.92342035 0.86405954 0.93007917 0.81252796 0.76788355 0.98380968\n",
      " 0.74120766 0.72261865 0.51657816 0.9800835  0.97080647 0.86894678\n",
      " 0.58855083 0.65629476 0.95482349 0.89926873 0.82304294 0.51354852\n",
      " 0.92010545 0.85475308 0.72398887 0.5047453  0.91899169 0.98696859\n",
      " 0.96690904 0.45061152 0.55285711 0.5783092  0.78748377 0.99142368\n",
      " 0.71534264 0.74713584 0.76651305 0.60425267 0.88727661 0.92166048\n",
      " 0.54425038 0.90454986 0.95527529 0.84496249 0.6960241  0.87841215\n",
      " 0.79064997 0.94844032 0.75245022 0.6968963  0.74193198 0.84248049\n",
      " 0.46473887 0.85452229 0.77765486 0.9362603  0.85671434 0.91937788\n",
      " 0.73285817 0.89241572 0.8133082  0.72983151 0.65420013 0.94739925\n",
      " 0.63110786 0.97790417 0.62901676 0.79057967 0.71530259 0.84148137\n",
      " 0.85348418 0.70815587 0.11655725 0.80551071 0.37405365 0.5798563\n",
      " 0.99013172 0.6084335  0.75996333 0.83753308 0.67077672 0.52327884\n",
      " 0.97921389 0.8759477  0.81092267 0.20712841 0.79948061 0.77213779\n",
      " 0.87342039 0.97856847 0.92289119 0.71480213 0.14216038 0.53117011\n",
      " 0.72748649 0.94583628 0.58408376 0.35248714 0.35949428 0.94668645\n",
      " 0.91191248 0.40743186 0.88512528 0.95161686 0.86982838 0.92689846\n",
      " 0.90299892 0.88547848 0.46781556 0.89891195 0.96719264 0.60068127\n",
      " 0.94633297 0.96474467 0.87218029 0.73967656 0.66428826 0.86949253\n",
      " 0.94742141 0.84870662 0.73534344 0.70497005 0.62744357 0.54834873\n",
      " 0.8935381  0.79117167 0.39316575 0.9960033  0.98891956 0.70609029\n",
      " 0.81703402 0.44089942 0.70102148 0.88909925 0.62526423 0.94711274\n",
      " 0.46688131 0.85009458 0.9248093  0.85457907 0.79809243 0.40167772\n",
      " 0.75293903 0.76199041 0.66470393 0.98650938 0.91803599 0.36824903\n",
      " 0.78194328 0.8923807  0.58251647 0.58859853 0.84394844 0.96923818\n",
      " 0.61016238 0.66677245 0.7891897  0.96116036 0.92074187 0.80102169\n",
      " 0.58723088 0.97006691 0.65013751 0.62927982 0.75570161 0.81627637\n",
      " 0.95130178 0.97531538 0.35692354 0.99141425 0.97005732 0.82707268\n",
      " 0.77428675 0.7934691  0.58779539 0.65456582 0.68472645 0.84517606\n",
      " 0.89945949 0.68253911 0.94037699 0.71308285 0.89264951 0.8135165\n",
      " 0.51551256 0.9760282  0.68378386 0.85472361 0.45062494 0.84494882\n",
      " 0.59415219 0.90402028 0.83317425 0.96132753 0.55094133 0.95164917\n",
      " 0.89194613 0.63409686 0.62805903 0.80222387 0.4782947  0.42518973\n",
      " 0.97737609 0.78158191 0.80224835 0.85997125 0.69607043 0.76775869\n",
      " 0.96076358 0.48886527 0.35135644 0.94466442 0.9897334  0.80550134\n",
      " 0.96702329 0.88873395 0.90971913 0.62406513 0.53793935 0.762756\n",
      " 0.12610891 0.62974766 0.76117029 0.96025922 0.55862105 0.47135712\n",
      " 0.53114618 0.86327427 0.96016531 0.83245995 0.90674584 0.22802693\n",
      " 0.90790312 0.82535151 0.8298624  0.69731217 0.86941473 0.57808551\n",
      " 0.93821457 0.797048   0.67288772 0.64649794 0.990526   0.55034393\n",
      " 0.96361529 0.32825868 0.96508566 0.85309369 0.88155885 0.99278918\n",
      " 0.98724769 0.84698175 0.99752987 0.6188822  0.86496124 0.75790364\n",
      " 0.90318441 0.40585522 0.93278324 0.95213837 0.86756799 0.47236312\n",
      " 0.66808252 0.59069992 0.87371405 0.98557959 0.88985557 0.55422422\n",
      " 0.8922517  0.89842719 0.9344093  0.51200127 0.78939345 0.97341688\n",
      " 0.8191416  0.90140718 0.9298885  0.52422148 0.78266203 0.48917572\n",
      " 0.98141295 0.89504341 0.7852562  0.87105323 0.89979364 0.80185647\n",
      " 0.88808385 0.51387384 0.40486086 0.49541057 0.66388831 0.70603567\n",
      " 0.91295064 0.77851868 0.83222557 0.90227614 0.62864911 0.94844865\n",
      " 0.7596479  0.92683595 0.72484873 0.88366496 0.42011401 0.59378233\n",
      " 0.92432731 0.57963996 0.673089   0.69516518 0.98008318 0.58196314\n",
      " 0.97552681 0.92029487 0.85636643 0.81590146 0.96357865 0.92963911\n",
      " 0.97496881 0.67091696 0.98248865 0.79666604 0.73292822 0.92232592\n",
      " 0.93772659 0.70951252 0.59873549 0.92752311 0.66447208 0.89600222\n",
      " 0.46768409 0.85050906 0.76888055 0.81222903 0.96198349 0.64532211\n",
      " 0.33017623 0.93598188 0.77320547 0.86285125 0.63186704 0.88659526\n",
      " 0.98352836 0.9163023  0.86223507 0.49645227 0.80593945 0.9365288\n",
      " 0.76751786 0.87394814 0.4599205  0.72749909 0.98148432 0.80759096\n",
      " 0.9708479  0.55503692 0.48797065 0.93332534 0.32359604 0.80811615\n",
      " 0.95380306 0.93046208 0.78011821 0.9285673  0.86497251 0.93191625\n",
      " 0.70904774 0.84139741 0.69153458 0.96372081 0.92181967 0.20265899\n",
      " 0.89302467 0.93386125 0.95108376 0.77365633 0.73866147 0.82088579\n",
      " 0.65373469 0.93134007 0.59606189 0.38803052 0.51611729 0.93222142\n",
      " 0.76548693 0.9172977  0.81765323 0.77368445 0.95325832 0.63315591\n",
      " 0.72710178 0.77285754 0.85849049 0.32262043 0.48840545 0.95850628\n",
      " 0.77168697 0.92313068 0.40696141 0.59110997 0.96074074 0.90974952\n",
      " 0.78939359 0.71493141 0.83213247 0.92660606 0.7731197  0.93679495\n",
      " 0.45968348 0.61050572 0.72946725 0.90577062 0.13418035 0.6964828\n",
      " 0.79636964 0.97663298 0.34985604 0.81932258 0.86859058 0.9267343\n",
      " 0.44055537 0.64543514 0.66943362 0.72760832 0.892127   0.88004732\n",
      " 0.89300168 0.63865466 0.53187057 0.83312736 0.88201513 0.90285349\n",
      " 0.75730254 0.92377754 0.86908553 0.97898512 0.99205934 0.95870584\n",
      " 0.71227345 0.55029097 0.72193172 0.63364659 0.91281137 0.54278701\n",
      " 0.87848791 0.83246317 0.85863942 0.9318864  0.98364269 0.85337573\n",
      " 0.71989801 0.57391194 0.61355373 0.83339868 0.73559253 0.93317875\n",
      " 0.74012144 0.89475069 0.69270465 0.77955823 0.57590092 0.95306401\n",
      " 0.51135121 0.40920759 0.9887427  0.88030545 0.8072842  0.40239266\n",
      " 0.8220097  0.73609727 0.83632899 0.7094477  0.88245801 0.99502879\n",
      " 0.67958815 0.65270556 0.76301117 0.99960341 0.80481503 0.95377997\n",
      " 0.95863796 0.6402746  0.92751358 0.81612905 0.58413634 0.55627712\n",
      " 0.93103855 0.77147592 0.58592918 0.57093271 0.9506026  0.5146265\n",
      " 0.91709767 0.91257917 0.8934484  0.95519786 0.89232211 0.99522205\n",
      " 0.63084466 0.94446967 0.86517639 0.59219383 0.88187691 0.98318721\n",
      " 0.85581259 0.42435423 0.88340692 0.97422627 0.90041254 0.51905008\n",
      " 0.31365928 0.85830638 0.83985223 0.56351209 0.781846   0.83847283\n",
      " 0.87739776 0.60639589 0.79518003 0.98394847 0.63154161 0.22573787\n",
      " 0.91252918 0.60067144 0.95068373 0.9608093  0.56716121 0.62374127\n",
      " 0.7657295  0.75112733 0.92407756 0.67032971 0.97599927 0.25491132\n",
      " 0.88008918 0.51337297 0.58002964 0.46264083 0.74392419 0.84681242\n",
      " 0.82582023 0.80124732 0.99518135 0.65935877 0.66481861 0.95039334\n",
      " 0.82294331 0.75668353 0.98908055 0.68900776 0.94823121 0.47325215\n",
      " 0.62766097 0.79273322 0.64524139 0.89443445 0.91699766 0.89910914\n",
      " 0.97131212 0.63240375 0.53177255 0.69563038 0.4451563  0.75077101\n",
      " 0.16069943 0.6343228  0.97555759 0.64318746 0.80277981 0.98156004\n",
      " 0.63452686 0.7308175  0.91946845 0.53781099 0.78798679 0.99507908\n",
      " 0.5618801  0.75250246 0.99185423 0.8536453  0.92595116 0.85992476\n",
      " 0.79112946 0.84919251 0.46683205 0.5744193  0.81173171 0.67184824\n",
      " 0.24433    0.95497618 0.89475854 0.598266   0.73872015 0.52031493\n",
      " 0.72454412 0.60941338 0.98412873 0.89809999 0.98550745 0.9339827\n",
      " 0.90558101 0.95419432 0.94456319 0.65839593 0.80448625 0.50590193\n",
      " 0.66630318 0.78023851 0.61420318 0.61753829 0.6779036  0.23684865\n",
      " 0.90922257 0.82813816 0.77346576 0.94700319 0.75064549 0.90622046\n",
      " 0.83147794 0.76161664 0.41029075 0.91950176 0.84821458 0.79074856\n",
      " 0.6523011  0.78632211 0.27896042 0.63453001 0.4029459  0.88980546\n",
      " 0.65341352 0.85854621 0.65127349 0.71452553 0.92269933 0.74160556\n",
      " 0.53641039 0.59488085 0.97502996 0.76650906 0.53639818 0.56399736\n",
      " 0.70373193 0.71510336 0.65895319 0.85946297 0.39916561 0.80793928\n",
      " 0.50563869 0.66594931 0.75400272 0.46770843 0.7491796  0.94953001\n",
      " 0.94595878 0.82121467 0.35301899 0.84816355 0.64091828 0.85462942\n",
      " 0.99110697 0.98801625 0.84140177 0.80379056 0.82188774 0.97819625\n",
      " 0.99960831 0.96579208 0.31630615 0.85234671 0.86789357 0.91056576\n",
      " 0.60916824 0.94193062 0.90067195 0.62009721 0.68807686 0.89784385\n",
      " 0.78312991 0.5706602  0.77666866 0.96592269 0.5588787  0.77076692\n",
      " 0.88673282 0.70810595 0.98397927 0.64379501 0.84176591 0.85645001\n",
      " 0.91084881 0.61769771 0.55097644 0.84772671 0.86912712 0.9957096\n",
      " 0.8209997  0.95916583 0.64195112 0.54372175 0.56601181 0.7478905\n",
      " 0.89144105 0.78575434 0.7511058  0.85517033 0.85277536 0.89247894\n",
      " 0.60652652 0.93205047 0.80656019 0.87703519 0.40258613 0.85785578\n",
      " 0.92676318 0.91458078 0.35032299 0.52164791 0.89802678 0.60176124\n",
      " 0.97510477 0.66443242 0.7017923  0.88393711 0.53915995 0.97712611\n",
      " 0.73411689 0.92105385 0.24846176 0.88293035 0.7744271  0.95072694\n",
      " 0.49261472 0.65712756 0.57675819 0.5568502  0.56851132 0.73864085\n",
      " 0.86738601 0.93090445 0.89457375 0.86883699 0.84025929 0.81421487\n",
      " 0.33484358 0.95549267 0.53093326 0.48518068 0.44046659 0.42910991\n",
      " 0.74555364 0.91657601 0.90708393 0.98506099 0.93237549 0.74126766\n",
      " 0.96816179 0.17836216 0.69835374 0.94867756 0.71958917 0.8169074\n",
      " 0.89230687 0.49681087 0.98251713 0.89574103 0.79985507 0.96175055\n",
      " 0.89584243 0.64924706 0.28648129 0.85842251 0.94788073 0.89748869\n",
      " 0.86343849 0.88103913 0.77029269 0.59415293 0.87434102 0.94258592\n",
      " 0.9178621  0.77986328 0.72662763 0.82417864 0.82719713 0.90221544\n",
      " 0.79058486 0.60355705 0.96929207 0.84413629 0.98681096 0.85836047\n",
      " 0.90515642 0.75237631 0.99057265 0.41697393 0.74221505 0.98310052\n",
      " 0.606213   0.7053897  0.92849931 0.50886791 0.71850007 0.69092466\n",
      " 0.82744777 0.76492981 0.90862772 0.9715868  0.93545353 0.70958165\n",
      " 0.71310369 0.78547525 0.76256138 0.94451059 0.73062324 0.65845221\n",
      " 0.78542406 0.96528794 0.71733746 0.83501789 0.83957506 0.75762826\n",
      " 0.63572797 0.74126728 0.89051932 0.19549553 0.60204326 0.72090711\n",
      " 0.7667596  0.87531193 0.91129969 0.7739116  0.94286446 0.34768394\n",
      " 0.79255816 0.36032615 0.84148427 0.89296186 0.86605347 0.90973232\n",
      " 0.56276584 0.77158033 0.94527701 0.86621562]\n"
     ]
    }
   ],
   "source": [
    "n = 1000\n",
    "u = np.random.uniform(0,1,n)\n",
    "x = u**(1/3)\n",
    "print(x)"
   ]
  },
  {
   "cell_type": "code",
   "execution_count": 35,
   "metadata": {},
   "outputs": [
    {
     "name": "stdout",
     "output_type": "stream",
     "text": [
      "Collecting matplotlib\n",
      "  Downloading matplotlib-3.9.2-cp311-cp311-win_amd64.whl.metadata (11 kB)\n",
      "Collecting contourpy>=1.0.1 (from matplotlib)\n",
      "  Downloading contourpy-1.3.0-cp311-cp311-win_amd64.whl.metadata (5.4 kB)\n",
      "Collecting cycler>=0.10 (from matplotlib)\n",
      "  Downloading cycler-0.12.1-py3-none-any.whl.metadata (3.8 kB)\n",
      "Collecting fonttools>=4.22.0 (from matplotlib)\n",
      "  Downloading fonttools-4.54.1-cp311-cp311-win_amd64.whl.metadata (167 kB)\n",
      "     ---------------------------------------- 0.0/167.0 kB ? eta -:--:--\n",
      "     ------- ------------------------------- 30.7/167.0 kB 1.3 MB/s eta 0:00:01\n",
      "     ------------------------- ------------ 112.6/167.0 kB 1.3 MB/s eta 0:00:01\n",
      "     -------------------------------------- 167.0/167.0 kB 1.7 MB/s eta 0:00:00\n",
      "Collecting kiwisolver>=1.3.1 (from matplotlib)\n",
      "  Downloading kiwisolver-1.4.7-cp311-cp311-win_amd64.whl.metadata (6.4 kB)\n",
      "Requirement already satisfied: numpy>=1.23 in c:\\users\\user\\appdata\\local\\packages\\pythonsoftwarefoundation.python.3.11_qbz5n2kfra8p0\\localcache\\local-packages\\python311\\site-packages (from matplotlib) (2.1.1)\n",
      "Requirement already satisfied: packaging>=20.0 in c:\\users\\user\\appdata\\local\\packages\\pythonsoftwarefoundation.python.3.11_qbz5n2kfra8p0\\localcache\\local-packages\\python311\\site-packages (from matplotlib) (24.1)\n",
      "Requirement already satisfied: pillow>=8 in c:\\users\\user\\appdata\\local\\packages\\pythonsoftwarefoundation.python.3.11_qbz5n2kfra8p0\\localcache\\local-packages\\python311\\site-packages (from matplotlib) (10.4.0)\n",
      "Collecting pyparsing>=2.3.1 (from matplotlib)\n",
      "  Downloading pyparsing-3.1.4-py3-none-any.whl.metadata (5.1 kB)\n",
      "Requirement already satisfied: python-dateutil>=2.7 in c:\\users\\user\\appdata\\local\\packages\\pythonsoftwarefoundation.python.3.11_qbz5n2kfra8p0\\localcache\\local-packages\\python311\\site-packages (from matplotlib) (2.9.0.post0)\n",
      "Requirement already satisfied: six>=1.5 in c:\\users\\user\\appdata\\local\\packages\\pythonsoftwarefoundation.python.3.11_qbz5n2kfra8p0\\localcache\\local-packages\\python311\\site-packages (from python-dateutil>=2.7->matplotlib) (1.16.0)\n",
      "Downloading matplotlib-3.9.2-cp311-cp311-win_amd64.whl (7.8 MB)\n",
      "   ---------------------------------------- 0.0/7.8 MB ? eta -:--:--\n",
      "    --------------------------------------- 0.2/7.8 MB 5.9 MB/s eta 0:00:02\n",
      "   --- ------------------------------------ 0.6/7.8 MB 6.5 MB/s eta 0:00:02\n",
      "   ---- ----------------------------------- 1.0/7.8 MB 7.5 MB/s eta 0:00:01\n",
      "   ---- ----------------------------------- 1.0/7.8 MB 7.5 MB/s eta 0:00:01\n",
      "   ---------- ----------------------------- 2.0/7.8 MB 10.5 MB/s eta 0:00:01\n",
      "   ------------ --------------------------- 2.5/7.8 MB 8.9 MB/s eta 0:00:01\n",
      "   ---------------- ----------------------- 3.3/7.8 MB 10.0 MB/s eta 0:00:01\n",
      "   --------------------- ------------------ 4.1/7.8 MB 11.0 MB/s eta 0:00:01\n",
      "   ------------------------- -------------- 4.9/7.8 MB 11.6 MB/s eta 0:00:01\n",
      "   ----------------------------- ---------- 5.7/7.8 MB 12.1 MB/s eta 0:00:01\n",
      "   --------------------------------- ------ 6.5/7.8 MB 12.6 MB/s eta 0:00:01\n",
      "   ------------------------------------- -- 7.4/7.8 MB 13.0 MB/s eta 0:00:01\n",
      "   ---------------------------------------- 7.8/7.8 MB 13.2 MB/s eta 0:00:00\n",
      "Downloading contourpy-1.3.0-cp311-cp311-win_amd64.whl (217 kB)\n",
      "   ---------------------------------------- 0.0/217.2 kB ? eta -:--:--\n",
      "   --------------------------------------- 217.2/217.2 kB 13.8 MB/s eta 0:00:00\n",
      "Downloading cycler-0.12.1-py3-none-any.whl (8.3 kB)\n",
      "Downloading fonttools-4.54.1-cp311-cp311-win_amd64.whl (2.2 MB)\n",
      "   ---------------------------------------- 0.0/2.2 MB ? eta -:--:--\n",
      "   --------------- ------------------------ 0.8/2.2 MB 27.1 MB/s eta 0:00:01\n",
      "   ------------------------------- -------- 1.7/2.2 MB 18.4 MB/s eta 0:00:01\n",
      "   ---------------------------------------- 2.2/2.2 MB 17.6 MB/s eta 0:00:00\n",
      "Downloading kiwisolver-1.4.7-cp311-cp311-win_amd64.whl (56 kB)\n",
      "   ---------------------------------------- 0.0/56.0 kB ? eta -:--:--\n",
      "   ---------------------------------------- 56.0/56.0 kB 3.1 MB/s eta 0:00:00\n",
      "Downloading pyparsing-3.1.4-py3-none-any.whl (104 kB)\n",
      "   ---------------------------------------- 0.0/104.1 kB ? eta -:--:--\n",
      "   ---------------------------------------- 104.1/104.1 kB ? eta 0:00:00\n",
      "Installing collected packages: pyparsing, kiwisolver, fonttools, cycler, contourpy, matplotlib\n",
      "Successfully installed contourpy-1.3.0 cycler-0.12.1 fonttools-4.54.1 kiwisolver-1.4.7 matplotlib-3.9.2 pyparsing-3.1.4\n",
      "Note: you may need to restart the kernel to use updated packages.\n"
     ]
    },
    {
     "name": "stderr",
     "output_type": "stream",
     "text": [
      "\n",
      "[notice] A new release of pip is available: 24.0 -> 24.2\n",
      "[notice] To update, run: C:\\Users\\USER\\AppData\\Local\\Microsoft\\WindowsApps\\PythonSoftwareFoundation.Python.3.11_qbz5n2kfra8p0\\python.exe -m pip install --upgrade pip\n"
     ]
    }
   ],
   "source": [
    "pip install matplotlib"
   ]
  },
  {
   "cell_type": "code",
   "execution_count": 38,
   "metadata": {},
   "outputs": [
    {
     "data": {
      "text/plain": [
       "[<matplotlib.lines.Line2D at 0x174cb4aac50>]"
      ]
     },
     "execution_count": 38,
     "metadata": {},
     "output_type": "execute_result"
    },
    {
     "data": {
      "image/png": "[encoded data removed]",
      "text/plain": [
       "<Figure size 640x480 with 1 Axes>"
      ]
     },
     "metadata": {},
     "output_type": "display_data"
    }
   ],
   "source": [
    "import matplotlib.pyplot as plt\n",
    "plt.hist(x,bins=30, density=True, alpha=0.6, color='g')\n",
    "\n",
    "\n",
    "y = np.linspace(0,1, 100)\n",
    "plt.plot(y,3*y**2,'r-',lw=2)"
   ]
  },
  {
   "cell_type": "code",
   "execution_count": 47,
   "metadata": {},
   "outputs": [
    {
     "data": {
      "text/plain": [
       "(array([1.683568  , 1.28310765, 1.18503573, 0.89081996, 0.76823006,\n",
       "        0.49853227, 0.44949631, 0.31056109, 0.25335247, 0.18797118,\n",
       "        0.14710788, 0.0817266 , 0.07355394, 0.07355394, 0.08989926,\n",
       "        0.0408633 , 0.02451798, 0.02451798, 0.01634532, 0.01634532,\n",
       "        0.00817266, 0.02451798, 0.        , 0.00817266, 0.00817266,\n",
       "        0.00817266, 0.        , 0.        , 0.        , 0.01634532]),\n",
       " array([1.80700019e-04, 1.22539880e-01, 2.44899060e-01, 3.67258240e-01,\n",
       "        4.89617420e-01, 6.11976601e-01, 7.34335781e-01, 8.56694961e-01,\n",
       "        9.79054141e-01, 1.10141332e+00, 1.22377250e+00, 1.34613168e+00,\n",
       "        1.46849086e+00, 1.59085004e+00, 1.71320922e+00, 1.83556840e+00,\n",
       "        1.95792758e+00, 2.08028676e+00, 2.20264594e+00, 2.32500512e+00,\n",
       "        2.44736430e+00, 2.56972348e+00, 2.69208266e+00, 2.81444184e+00,\n",
       "        2.93680102e+00, 3.05916020e+00, 3.18151938e+00, 3.30387856e+00,\n",
       "        3.42623774e+00, 3.54859692e+00, 3.67095610e+00]),\n",
       " <BarContainer object of 30 artists>)"
      ]
     },
     "execution_count": 47,
     "metadata": {},
     "output_type": "execute_result"
    },
    {
     "data": {
      "image/png": "[encoded data removed]",
      "text/plain": [
       "<Figure size 640x480 with 1 Axes>"
      ]
     },
     "metadata": {},
     "output_type": "display_data"
    }
   ],
   "source": [
    "#運用反轉換法產生服從平均數為1/𝜆的指數分佈的隨機樣本\n",
    "n = 1000\n",
    "lmbda = 2\n",
    "\n",
    "u = np.random.uniform(0,1,n)\n",
    "x = -np.log(u) / lmbda\n",
    "\n",
    "plt.hist(x, bins=30, density=True, alpha=0.6, color='g')"
   ]
  },
  {
   "cell_type": "code",
   "execution_count": 52,
   "metadata": {},
   "outputs": [
    {
     "name": "stdout",
     "output_type": "stream",
     "text": [
      "[1 0 1 1 0 0 1 0 1 0 1 0 1 0 0 1 1 0 0 1 0 0 0 0 0 0 0 1 0 1 0 1 1 1 0 0 0\n",
      " 0 0 1 1 0 0 1 0 0 1 0 1 0 0 0 1 0 0 0 0 0 1 1 1 0 0 1 0 1 0 0 1 1 0 1 0 1\n",
      " 1 1 0 1 0 1 0 1 0 0 0 1 1 1 1 0 0 1 0 0 0 0 0 0 1 1 1 1 0 1 1 0 0 0 1 0 1\n",
      " 0 1 1 0 1 0 0 1 0 0 0 0 0 1 0 1 1 0 0 1 1 0 0 1 0 1 1 0 1 0 1 0 1 0 1 0 0\n",
      " 0 1 0 1 0 1 0 0 0 1 1 0 0 1 0 1 0 0 1 0 0 1 1 0 1 0 0 0 1 0 0 0 1 0 0 0 0\n",
      " 0 1 0 1 1 0 0 1 0 0 1 0 0 1 1 1 0 0 0 0 0 0 0 0 1 0 1 1 1 1 1 1 0 1 0 0 0\n",
      " 1 1 0 1 0 0 0 1 1 0 1 0 1 0 1 0 1 0 0 0 0 1 0 0 0 0 0 1 0 1 0 0 0 1 0 1 0\n",
      " 1 1 1 0 0 0 1 0 1 0 0 1 0 0 0 1 0 1 0 0 1 0 1 1 1 1 1 1 0 0 0 0 1 0 0 0 0\n",
      " 1 1 1 0 0 0 1 0 0 0 1 0 1 0 0 0 1 1 0 1 0 1 0 0 1 1 1 0 1 0 0 0 1 0 0 0 1\n",
      " 0 1 0 1 0 0 0 1 1 1 0 0 0 1 1 0 1 1 0 0 0 1 0 0 1 1 0 0 1 1 0 1 0 0 0 1 1\n",
      " 0 0 0 1 0 0 0 0 1 0 1 1 0 1 1 0 0 1 0 0 0 0 0 1 0 0 0 1 1 1 0 0 0 0 0 1 0\n",
      " 1 1 0 1 0 1 0 0 1 0 1 1 0 1 1 1 0 1 0 0 0 0 0 1 0 0 0 1 1 0 0 1 0 1 0 1 0\n",
      " 0 1 0 0 0 0 1 0 1 0 0 0 0 0 0 1 0 0 0 1 1 1 0 1 1 1 0 0 0 1 1 0 1 0 1 1 0\n",
      " 1 0 0 1 0 0 0 1 0 0 0 1 1 1 1 0 1 0 1 0 0 1 1 1 1 1 0 1 0 0 1 0 0 1 0 0 1\n",
      " 1 0 1 0 1 0 0 0 0 1 1 0 0 1 0 0 0 1 1 0 1 0 0 0 0 1 0 1 1 0 1 1 0 0 1 0 0\n",
      " 0 1 0 0 0 0 0 0 1 0 0 1 0 1 0 0 0 1 0 0 0 1 0 1 0 0 1 0 0 1 1 0 0 0 1 1 1\n",
      " 0 1 1 0 0 0 1 0 1 0 0 1 0 1 1 1 1 1 1 1 0 1 0 1 0 1 1 0 1 1 0 1 1 0 1 0 0\n",
      " 0 0 0 0 1 1 0 0 0 0 0 1 1 0 0 0 1 1 1 0 1 1 1 0 0 0 1 1 1 0 1 1 0 1 1 0 1\n",
      " 1 1 0 0 1 0 0 0 0 0 0 1 0 0 1 0 0 0 0 1 0 0 0 0 0 0 1 0 0 0 0 0 1 1 0 0 0\n",
      " 0 1 0 1 1 1 0 0 0 1 1 1 0 0 1 1 0 1 0 0 1 1 0 0 1 0 1 0 0 1 1 0 0 0 1 1 0\n",
      " 0 0 1 0 0 1 1 0 0 0 0 1 0 0 1 1 0 1 0 0 0 1 0 0 1 1 1 0 1 0 0 1 1 0 1 0 0\n",
      " 0 1 0 0 0 0 0 0 1 0 1 0 1 1 1 0 1 1 1 0 1 1 0 0 0 0 1 1 0 0 1 0 0 0 1 1 0\n",
      " 0 1 1 1 1 1 0 0 0 0 1 0 0 0 1 1 0 0 1 0 1 0 0 0 0 0 1 1 0 1 1 0 1 0 1 1 1\n",
      " 0 1 1 1 1 0 0 1 0 0 0 1 1 0 1 0 0 1 0 0 1 1 0 1 0 0 1 1 0 0 0 1 0 0 1 1 0\n",
      " 0 0 0 0 0 1 0 0 1 0 1 0 0 1 1 0 0 0 1 0 1 1 1 1 1 1 0 1 0 1 0 0 1 1 1 1 0\n",
      " 0 0 1 1 1 1 0 1 0 0 1 0 0 0 1 0 0 0 0 0 0 1 0 0 0 0 1 0 0 1 0 1 0 0 1 0 0\n",
      " 0 1 1 1 1 0 0 1 0 0 0 1 0 1 0 0 0 1 1 0 1 0 1 1 1 1 0 0 0 0 0 1 1 0 1 0 0\n",
      " 0]\n"
     ]
    }
   ],
   "source": [
    "#運用反種換法產生Bernoulli(p=0.4) 的隨機樣本\n",
    "\n",
    "n = 1000\n",
    "p = 0.4\n",
    "u = np.random.uniform(0,1,n)\n",
    "x = (u <= p).astype(int)\n",
    "print(x)\n",
    "\n",
    "\n"
   ]
  },
  {
   "cell_type": "code",
   "execution_count": 55,
   "metadata": {},
   "outputs": [
    {
     "name": "stdout",
     "output_type": "stream",
     "text": [
      "[ 6  1  0  0  0  2 12  0  1  0  4  0  3  6  5  3  3  0  0  0  3  1  3  2\n",
      " 17  5  1  1  3  6  0  4  0  5  2  5  1  0  2  0  5  0  0  5  3  3  6  0\n",
      "  8  0  0  1  1  1  0  0  0  5  2  0  9  3  0  4  2 10  0  3  1  4  8  7\n",
      "  4  0  4  0  5  0  6  0  4  0  4  1  1  0  2  7  9 12  7  1  7  5 12  4\n",
      "  0  2  0  2  1  1  2  1  0  2  3  0  0  0  7  3  2  1  0  0  3  4  5 10\n",
      "  0  1 19  4  0  1  1  7  9  1  0  1  1  2  0 12 10  0  4  0  1  0  2  3\n",
      "  1  3  4  1  3  3  4  0  0  2  3  0  0  3  1  1  3  1  8  2  2  4  7 11\n",
      " 20 28  8  0  9  0  0  0  3  2  1  4  1  1  3  2  1  2  0  1  2  4  1  0\n",
      "  0  8  1  4  1  1  5  0  1  9  6  2  2  2  4  0  3  6 13  3  1  2  0  0\n",
      "  2 13  6  3  3  2  7  3  6  1  2  2 20  4  1  1  2  7  3  2  8  0  3  0\n",
      "  2  0  3  6  0  4  9  2  4  1  6  0  8  2  0 13  0  0  1  5  4  2  6  0\n",
      "  8  2 10  0  5  1  3  1  2  0  1  0  0  4  5  0  0  0  3  0  0  1  3  0\n",
      "  2  1  0  0  0  0  2  4  1  1 10  8  2  1  3  0  2  0 12  1  2  0  4  4\n",
      "  2  2  0  4  6  1  0  7  0  3  0  5  4  9  0 14  0  0  3  2  0  0  5  1\n",
      "  1  5  0  1  0  0  1  0  5  2  7  1  0  3  5  7  0  2  1  0  9 15  3  2\n",
      "  0  2  1  1  2  0 10  1  2 11  2  3  3  4  7  0  0  1  3  2  4  2  5  7\n",
      "  2  4  0  1  1  2  3  0  2  0  4  0 12  3  1  6  0  0  4  6  1  8  1  0\n",
      "  0  0  0  3  2  0  2  2  0  6  3  0  4  1 13  1 10  0  8  0  1  1  3  5\n",
      "  5  3  9  2  1  0  6  1  1  0  0  8  1  1  2  0  0  7  1  0  8  6  4  0\n",
      "  1  4  0  9  3  2  0  0 13  2  1  3  2  2  6  6  0  1  0  0  1  0  0  0\n",
      "  3  0  2  0  8  1  3  8  6  4  8  0  3  8  1  3  8  1  5  3  2  9  3  1\n",
      "  5  0  1  2  8  3  2  2  0  2  5  0  1  6  0  4  2  1  0  0  1 14  1  1\n",
      "  4  3  0  0  0  1  1  7  2  2  0 10  4  3  2 11  5  5  6  2  2  2  2  0\n",
      "  2  4  0 12  7  5  5  0  2  2  1  8  3  3  4  2  3  2  2  0  3  1  2  7\n",
      "  0  2  4  1  0  1  3  1  3  4  0  4  0  0  0  0  0  4  9  1  0  0  5  1\n",
      "  2  0 11  0  2  1  4  2 12  2  7  3  0  3  2  1  1  0  5  8  0 24  0  0\n",
      "  2  2  6  4  0  2  6  0  5  1  0  0  3  4  3  1  2  4  0  6  1  2  2  0\n",
      "  4  1  3  0 19  1  3  0  1  0  3 17  0  4  0  3  0  4  1  6  1  4  0  3\n",
      " 13  0  1  0  2  4  5  2  3  0  0  0  8  0  0  0  2  1  0  5  2  3  3  7\n",
      "  5  0  1  2  0  2  5  0  6  1  4  1  2  4  3  4  2  1  3  0  0  0  6  4\n",
      "  2  0  1  1  5  0  2  6  0  4  1  2  5  0 14  0 16  3  2 11 22  1  4  3\n",
      "  1  3  4  7  0  2  1  1  0  0  2  0  7  0  2  8  1  1  2  3  3  2  0  9\n",
      "  3 13  2  9  3  6  0  2  0  6  4  3  1  3  3  4  5  4  3  3  6  1  0  5\n",
      "  7  0  0  0  0  0  1  0  0  4  3  7  0  1  4  0  3  0  1  1  2  2  5  2\n",
      " 16  0  0  2  1  3  6  0  3  7  7  5  4  2 14  2  0  5  1  3  3  5 10  2\n",
      "  0  1  3  8  5  0  2  4  2  0  2 10  2  4  1  1  5  9  2  0  5  2  4  2\n",
      "  8  0  5 13  7  6  0  1  0  0  4  1  5  1  2  3  4  0  4  6  1  2  9  0\n",
      "  0  6  1 11  1  6  0  1  6  0  7  0  0  2  0 28  4  2  2  8 10  7 13  1\n",
      "  2  5  1  3  0  0  1  5 13  2  4  0  5  1  1  4  2  0  2  0  1  1  1  3\n",
      " 13  4  1  2  2  1  0  5  5  3  2  2 10  6  0  0  1  1  0  4  1  3  3  2\n",
      "  9  4  8  1  0  1  4 14  9  0  0  0  0  1  4  1  4  3 10 10  1  8  1  1\n",
      " 12 10  6  4  2  4  2  5  1  2  6  3  0  5  6  0]\n"
     ]
    }
   ],
   "source": [
    "#使用反轉換法產生參數𝑝=1/4的隨機幾何樣本\n",
    "\n",
    "n = 1000\n",
    "p = 0.25\n",
    "u = np.random.uniform(0,1,n)\n",
    "x = np.floor(np.log(1-u)/np.log(1-p)).astype(int)\n",
    "print(x)"
   ]
  },
  {
   "cell_type": "code",
   "execution_count": 54,
   "metadata": {},
   "outputs": [
    {
     "data": {
      "text/plain": [
       "array([388], dtype=int32)"
      ]
     },
     "execution_count": 54,
     "metadata": {},
     "output_type": "execute_result"
    }
   ],
   "source": []
  },
  {
   "cell_type": "code",
   "execution_count": null,
   "metadata": {},
   "outputs": [],
   "source": []
  }
 ],
 "metadata": {
  "kernelspec": {
   "display_name": "Python 3",
   "language": "python",
   "name": "python3"
  },
  "language_info": {
   "codemirror_mode": {
    "name": "ipython",
    "version": 3
   },
   "file_extension": ".py",
   "mimetype": "text/x-python",
   "name": "python",
   "nbconvert_exporter": "python",
   "pygments_lexer": "ipython3",
   "version": "3.11.9"
  }
 },
 "nbformat": 4,
 "nbformat_minor": 2
}
