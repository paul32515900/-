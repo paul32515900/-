{
 "cells": [
  {
   "cell_type": "code",
   "execution_count": 1,
   "metadata": {},
   "outputs": [
    {
     "name": "stdout",
     "output_type": "stream",
     "text": [
      "Requirement already satisfied: numpy in c:\\users\\user\\appdata\\local\\packages\\pythonsoftwarefoundation.python.3.11_qbz5n2kfra8p0\\localcache\\local-packages\\python311\\site-packages (2.1.1)\n",
      "Note: you may need to restart the kernel to use updated packages.\n"
     ]
    },
    {
     "name": "stderr",
     "output_type": "stream",
     "text": [
      "\n",
      "[notice] A new release of pip is available: 24.0 -> 24.2\n",
      "[notice] To update, run: C:\\Users\\USER\\AppData\\Local\\Microsoft\\WindowsApps\\PythonSoftwareFoundation.Python.3.11_qbz5n2kfra8p0\\python.exe -m pip install --upgrade pip\n"
     ]
    }
   ],
   "source": [
    "pip install numpy\n"
   ]
  },
  {
   "cell_type": "code",
   "execution_count": 3,
   "metadata": {},
   "outputs": [
    {
     "name": "stdout",
     "output_type": "stream",
     "text": [
      "[[0.41315302 0.86782918 0.0573875 ]\n",
      " [0.62331986 0.84901167 0.29828462]\n",
      " [0.83611171 0.65871646 0.68216083]\n",
      " [0.97554914 0.67344676 0.06858209]\n",
      " [0.95068743 0.49159025 0.81527235]]\n"
     ]
    }
   ],
   "source": [
    "import numpy as np\n",
    "n = 5  \n",
    "m = 3  \n",
    "matrix = np.random.uniform(low=0.0, high=1.0, size=(n, m))\n",
    "print(matrix)\n"
   ]
  },
  {
   "cell_type": "code",
   "execution_count": 4,
   "metadata": {},
   "outputs": [
    {
     "name": "stdout",
     "output_type": "stream",
     "text": [
      "Note: you may need to restart the kernel to use updated packages.\n"
     ]
    },
    {
     "name": "stderr",
     "output_type": "stream",
     "text": [
      "ERROR: Could not find a version that satisfies the requirement random (from versions: none)\n",
      "ERROR: No matching distribution found for random\n",
      "\n",
      "[notice] A new release of pip is available: 24.0 -> 24.2\n",
      "[notice] To update, run: C:\\Users\\USER\\AppData\\Local\\Microsoft\\WindowsApps\\PythonSoftwareFoundation.Python.3.11_qbz5n2kfra8p0\\python.exe -m pip install --upgrade pip\n"
     ]
    }
   ],
   "source": [
    "pip install random"
   ]
  },
  {
   "cell_type": "code",
   "execution_count": 5,
   "metadata": {},
   "outputs": [
    {
     "name": "stdout",
     "output_type": "stream",
     "text": [
      "[0, 0, 0, 0, 0, 0, 0, 1, 1, 1]\n"
     ]
    }
   ],
   "source": [
    "import random\n",
    "import string\n",
    "#投擲一些硬幣\n",
    "coins = random.choices([0, 1], k=10)\n",
    "print(coins)"
   ]
  },
  {
   "cell_type": "code",
   "execution_count": 7,
   "metadata": {},
   "outputs": [
    {
     "name": "stdout",
     "output_type": "stream",
     "text": [
      "[87, 58, 56, 53, 50, 81]\n"
     ]
    }
   ],
   "source": [
    "#選擇樂透號碼\n",
    "numbers = random.sample(range(1, 100), 6)\n",
    "print(numbers)"
   ]
  },
  {
   "cell_type": "code",
   "execution_count": 8,
   "metadata": {},
   "outputs": [
    {
     "name": "stdout",
     "output_type": "stream",
     "text": [
      "['c', 'i', 'n', 'd', 'w', 'q', 'j', 'o', 'm', 'f', 'v', 'a', 'l', 's', 'p', 'g', 't', 'b', 'x', 'e', 'k', 'r', 'h', 'y', 'z', 'u']\n"
     ]
    }
   ],
   "source": [
    "#字母 a-z 的排列組合\n",
    "letters = random.sample(string.ascii_lowercase, len(string.ascii_lowercase))\n",
    "print(letters)"
   ]
  },
  {
   "cell_type": "code",
   "execution_count": 6,
   "metadata": {},
   "outputs": [
    {
     "name": "stdout",
     "output_type": "stream",
     "text": [
      "[2 3 2 1 3 1 3 2 3 2 2 3 3 1 3 2 2 3 3 2 3 2 3 3 2 2 1 2 2 1 1 2 3 2 3 2 2\n",
      " 2 3 2 3 2 3 3 2 3 3 3 2 2 3 3 3 2 3 2 2 3 2 2 3 2 2 1 2 3 1 1 1 1 1 2 3 3\n",
      " 3 3 3 3 2 3 1 2 2 1 3 3 3 3 3 2 3 3 3 3 3 2 1 3 3 2]\n"
     ]
    }
   ],
   "source": [
    "##從多項分配抽樣\n",
    "x = np.random.choice([1, 2, 3], size=100, replace=True, p=[0.2, 0.3, 0.5])\n",
    "print(x)\n"
   ]
  },
  {
   "cell_type": "code",
   "execution_count": 7,
   "metadata": {},
   "outputs": [
    {
     "name": "stdout",
     "output_type": "stream",
     "text": [
      "[6 5 6 5 7 4 8 7 4 7 5 6 5 6 5 4 6 6 6 5 6 5 5 3 2 5 4 6 5 3 5 9 5 4 4 5 2\n",
      " 5 5 6 5 3 5 4 2 5 6 4 4 3 5 6 5 3 7 3 3 6 8 6 6 4 5 6 5 7 6 5 5 6 0 4 6 3\n",
      " 4 2 5 5 3 6 5 7 6 4 7 7 5 7 5 8 5 2 7 5 4 6 5 4 7 7]\n"
     ]
    }
   ],
   "source": [
    "import numpy as np\n",
    "random_samples = np.random.binomial(n=10, p=0.5, size=100)\n",
    "print(random_samples)"
   ]
  },
  {
   "cell_type": "code",
   "execution_count": 10,
   "metadata": {},
   "outputs": [
    {
     "name": "stdout",
     "output_type": "stream",
     "text": [
      "Collecting scipy\n",
      "  Downloading scipy-1.14.1-cp311-cp311-win_amd64.whl.metadata (60 kB)\n",
      "     ---------------------------------------- 0.0/60.8 kB ? eta -:--:--\n",
      "     ------------ ------------------------- 20.5/60.8 kB 330.3 kB/s eta 0:00:01\n",
      "     -------------------------------- ----- 51.2/60.8 kB 435.7 kB/s eta 0:00:01\n",
      "     -------------------------------------- 60.8/60.8 kB 463.7 kB/s eta 0:00:00\n",
      "Requirement already satisfied: numpy<2.3,>=1.23.5 in c:\\users\\user\\appdata\\local\\packages\\pythonsoftwarefoundation.python.3.11_qbz5n2kfra8p0\\localcache\\local-packages\\python311\\site-packages (from scipy) (2.1.1)\n",
      "Downloading scipy-1.14.1-cp311-cp311-win_amd64.whl (44.8 MB)\n",
      "   ---------------------------------------- 0.0/44.8 MB ? eta -:--:--\n",
      "   ---------------------------------------- 0.1/44.8 MB 1.7 MB/s eta 0:00:28\n",
      "   ---------------------------------------- 0.2/44.8 MB 2.3 MB/s eta 0:00:20\n",
      "   ---------------------------------------- 0.4/44.8 MB 2.8 MB/s eta 0:00:16\n",
      "    --------------------------------------- 0.6/44.8 MB 3.2 MB/s eta 0:00:14\n",
      "    --------------------------------------- 1.0/44.8 MB 4.3 MB/s eta 0:00:11\n",
      "   - -------------------------------------- 2.0/44.8 MB 7.2 MB/s eta 0:00:06\n",
      "   -- ------------------------------------- 2.3/44.8 MB 7.4 MB/s eta 0:00:06\n",
      "   -- ------------------------------------- 2.3/44.8 MB 7.4 MB/s eta 0:00:06\n",
      "   -- ------------------------------------- 3.3/44.8 MB 7.8 MB/s eta 0:00:06\n",
      "   --- ------------------------------------ 4.1/44.8 MB 8.8 MB/s eta 0:00:05\n",
      "   ---- ----------------------------------- 4.8/44.8 MB 9.3 MB/s eta 0:00:05\n",
      "   ---- ----------------------------------- 5.6/44.8 MB 9.9 MB/s eta 0:00:04\n",
      "   ------ --------------------------------- 6.8/44.8 MB 11.2 MB/s eta 0:00:04\n",
      "   ------- -------------------------------- 7.9/44.8 MB 12.0 MB/s eta 0:00:04\n",
      "   -------- ------------------------------- 9.1/44.8 MB 12.9 MB/s eta 0:00:03\n",
      "   --------- ------------------------------ 10.3/44.8 MB 14.9 MB/s eta 0:00:03\n",
      "   ---------- ----------------------------- 11.5/44.8 MB 18.7 MB/s eta 0:00:02\n",
      "   ----------- ---------------------------- 12.6/44.8 MB 22.6 MB/s eta 0:00:02\n",
      "   ------------ --------------------------- 13.8/44.8 MB 21.8 MB/s eta 0:00:02\n",
      "   ------------- -------------------------- 15.0/44.8 MB 24.2 MB/s eta 0:00:02\n",
      "   -------------- ------------------------- 16.1/44.8 MB 25.2 MB/s eta 0:00:02\n",
      "   --------------- ------------------------ 17.3/44.8 MB 25.2 MB/s eta 0:00:02\n",
      "   ---------------- ----------------------- 18.4/44.8 MB 25.2 MB/s eta 0:00:02\n",
      "   ----------------- ---------------------- 19.4/44.8 MB 24.2 MB/s eta 0:00:02\n",
      "   ------------------ --------------------- 20.4/44.8 MB 24.2 MB/s eta 0:00:02\n",
      "   ------------------ --------------------- 20.4/44.8 MB 24.2 MB/s eta 0:00:02\n",
      "   ------------------ --------------------- 20.5/44.8 MB 19.8 MB/s eta 0:00:02\n",
      "   -------------------- ------------------- 22.9/44.8 MB 21.8 MB/s eta 0:00:02\n",
      "   --------------------- ------------------ 23.9/44.8 MB 21.1 MB/s eta 0:00:01\n",
      "   ---------------------- ----------------- 24.9/44.8 MB 21.1 MB/s eta 0:00:01\n",
      "   ----------------------- ---------------- 25.9/44.8 MB 21.1 MB/s eta 0:00:01\n",
      "   ------------------------ --------------- 27.0/44.8 MB 20.5 MB/s eta 0:00:01\n",
      "   ------------------------- -------------- 28.0/44.8 MB 20.5 MB/s eta 0:00:01\n",
      "   ------------------------- -------------- 29.0/44.8 MB 20.5 MB/s eta 0:00:01\n",
      "   -------------------------- ------------- 30.1/44.8 MB 20.5 MB/s eta 0:00:01\n",
      "   --------------------------- ------------ 31.1/44.8 MB 24.2 MB/s eta 0:00:01\n",
      "   ---------------------------- ----------- 32.2/44.8 MB 22.6 MB/s eta 0:00:01\n",
      "   ----------------------------- ---------- 33.2/44.8 MB 21.9 MB/s eta 0:00:01\n",
      "   ------------------------------ --------- 34.3/44.8 MB 21.8 MB/s eta 0:00:01\n",
      "   ------------------------------- -------- 35.4/44.8 MB 21.8 MB/s eta 0:00:01\n",
      "   -------------------------------- ------- 36.4/44.8 MB 22.6 MB/s eta 0:00:01\n",
      "   --------------------------------- ------ 37.5/44.8 MB 22.6 MB/s eta 0:00:01\n",
      "   ---------------------------------- ----- 38.6/44.8 MB 22.6 MB/s eta 0:00:01\n",
      "   ----------------------------------- ---- 39.6/44.8 MB 22.5 MB/s eta 0:00:01\n",
      "   ------------------------------------ --- 40.7/44.8 MB 22.6 MB/s eta 0:00:01\n",
      "   ------------------------------------- -- 41.8/44.8 MB 22.6 MB/s eta 0:00:01\n",
      "   -------------------------------------- - 42.9/44.8 MB 22.6 MB/s eta 0:00:01\n",
      "   ---------------------------------------  43.9/44.8 MB 22.6 MB/s eta 0:00:01\n",
      "   ---------------------------------------  44.8/44.8 MB 22.6 MB/s eta 0:00:01\n",
      "   ---------------------------------------- 44.8/44.8 MB 20.4 MB/s eta 0:00:00\n",
      "Installing collected packages: scipy\n",
      "Successfully installed scipy-1.14.1\n",
      "Note: you may need to restart the kernel to use updated packages.\n"
     ]
    },
    {
     "name": "stderr",
     "output_type": "stream",
     "text": [
      "\n",
      "[notice] A new release of pip is available: 24.0 -> 24.2\n",
      "[notice] To update, run: C:\\Users\\USER\\AppData\\Local\\Microsoft\\WindowsApps\\PythonSoftwareFoundation.Python.3.11_qbz5n2kfra8p0\\python.exe -m pip install --upgrade pip\n"
     ]
    }
   ],
   "source": [
    "pip install scipy\n"
   ]
  },
  {
   "cell_type": "code",
   "execution_count": 21,
   "metadata": {},
   "outputs": [
    {
     "name": "stdout",
     "output_type": "stream",
     "text": [
      "PMF (P(X = x)): 0.11718749999999999\n",
      "CDF (P(X ≤ x)): 0.171875\n",
      "PPF (Quantile): 6.0\n",
      "Random Samples: [7 5 2 5 7]\n"
     ]
    }
   ],
   "source": [
    "import numpy as np \n",
    "from scipy.stats import binom \n",
    "size = 10\n",
    "prob = 0.5\n",
    "x = 3\n",
    "p = 0.8\n",
    "n = 5\n",
    "\n",
    "# PMF 對應dbinom\n",
    "pmf_value = binom.pmf(x, size, prob)\n",
    "print(\"PMF (P(X = x)):\",pmf_value)\n",
    "\n",
    "#CDF 對應pbinom\n",
    "cdf_value = binom.cdf(x,size,prob)\n",
    "print(\"CDF (P(X ≤ x)):\",cdf_value)\n",
    "\n",
    "# 分位數函數 對應 qbinom\n",
    "ppf_value = binom.ppf(p,size,prob)\n",
    "print(\"PPF (Quantile):\",ppf_value)\n",
    "\n",
    "#隨機變數產生 對應 rbinom\n",
    "random_samples = np.random.binomial(size,prob, size=n)\n",
    "print(\"Random Samples:\",random_samples)"
   ]
  },
  {
   "cell_type": "markdown",
   "metadata": {},
   "source": [
    "                                                   單變數機率函數                                                             \n",
    "分布                               CDF                                產生器                                參數\n",
    "beta                        scipy.stats.beta.cdf               scipy.stats.beta.rvs                 a (shape1), b (shape2)\n",
    "binomial                    scipy.stats.binom.cdf              numpy.random.binomial                n (size), p (prob)\n",
    "chi-squared                 scipy.stats.chi2.cdf               numpy.random.chisquare               df (degrees of freedom)\n",
    "exponential                 scipy.stats.expon.cdf              numpy.random.exponential             scale (1/rate)\n",
    "gamma                       scipy.stats.gamma.cdf              scipy.stats.gamma.rvs                shape (a), scale (1/rate)\n",
    "geometric                   scipy.stats.geom.cdf               numpy.random.geometric               p (prob)\n",
    "lognormal                   scipy.stats.lognorm.cdf\t           numpy.random.lognormal               meanlog, sdlog\n",
    "negative binomial           scipy.stats.nbinom.cdf             numpy.random.negative_binomial\t    n (size), p (prob)\n",
    "normal                      scipy.stats.norm.cdf               numpy.random.normal                  loc (mean), scale (sd)\n",
    "Poisson                     scipy.stats.poisson.cdf\t           numpy.random.poisson                 lam (lambda)\n",
    "Student's t                 scipy.stats.t.cdf                  scipy.stats.t.rvs                    df (degrees of freedom)\n",
    "uniform                     scipy.stats.uniform.cdf            numpy.random.uniform                 low (min), high (max)"
   ]
  },
  {
   "cell_type": "code",
   "execution_count": 12,
   "metadata": {},
   "outputs": [
    {
     "data": {
      "text/plain": [
       "array([ 6.57152245,  6.004335  ,  1.79872284,  0.43706108,  8.38404472,\n",
       "        3.50761793,  1.67626993,  3.32493307,  1.5989461 ,  3.81188164,\n",
       "        4.96224929,  5.72661673,  1.37253318,  0.01623601,  5.36259684,\n",
       "        4.25215188,  8.09056984,  3.64956304,  8.12430517,  5.19330903,\n",
       "        9.13823528,  3.46195046,  2.25974212,  5.85815048,  3.22027849,\n",
       "        4.65110191,  6.07756742, 12.13702297,  3.70780361,  3.65786861,\n",
       "        2.53287818,  4.10158491,  1.51344189,  1.41010392,  3.35708988,\n",
       "        5.47983288,  2.13981118,  3.36555129,  6.26829647,  9.50320123,\n",
       "        6.05032336,  6.2164269 ,  2.90918405,  7.61074147,  5.41513744,\n",
       "        5.11781768,  1.91784857,  5.47162193,  3.56925768,  1.56251481,\n",
       "        4.2676131 ,  4.0041958 ,  5.04612157,  2.61988243,  6.01671828,\n",
       "        3.11989654,  2.4601276 ,  0.9695625 ,  4.30239632,  1.70723691,\n",
       "        3.87686796,  2.89581518,  3.18514156,  1.72758298,  5.75319192,\n",
       "        8.2117566 ,  1.11357145,  2.31743741,  7.60045234,  3.28209905,\n",
       "        6.80971545,  1.54834929,  3.69549534,  1.59106504,  2.81125742,\n",
       "        3.32678634,  3.5925151 ,  0.75771795,  5.23903949,  6.95499023,\n",
       "        3.89637713,  3.83557462,  3.78754775,  7.20927414,  2.28727381,\n",
       "        1.52069251,  8.99191502,  6.40210086,  5.92208966,  5.57090666,\n",
       "        4.49463495,  4.0544334 ,  1.8463425 ,  5.2966227 ,  6.86991983,\n",
       "        1.96015277,  5.10146685,  2.25656448,  7.07876681,  3.09721703])"
      ]
     },
     "execution_count": 12,
     "metadata": {},
     "output_type": "execute_result"
    }
   ],
   "source": [
    "from scipy.stats import gamma\n",
    "random_samples = gamma.rvs(a=2, scale=1/0.5, size=100)  # shape=2, rate=0.5\n",
    "random_samples"
   ]
  },
  {
   "cell_type": "code",
   "execution_count": 30,
   "metadata": {},
   "outputs": [
    {
     "data": {
      "text/plain": [
       "np.float64(0.9984)"
      ]
     },
     "execution_count": 30,
     "metadata": {},
     "output_type": "execute_result"
    }
   ],
   "source": [
    "from scipy.stats import beta\n",
    "beta_sample = beta.cdf(x=0.8,a=2, b=5)\n",
    "beta_sample\n"
   ]
  },
  {
   "cell_type": "code",
   "execution_count": 11,
   "metadata": {},
   "outputs": [
    {
     "name": "stdout",
     "output_type": "stream",
     "text": [
      "[0.7394295  0.92206774 0.62870382 0.83121886 0.81014564 0.27645772\n",
      " 0.58676923 0.47540313 0.53228322 0.96989627 0.8752556  0.35142471\n",
      " 0.4740082  0.99557242 0.98463309 0.68970659 0.99301023 0.82585125\n",
      " 0.9684009  0.93344569 0.98033155 0.48555718 0.55789903 0.75533003\n",
      " 0.96166671 0.92513947 0.87999373 0.92742316 0.78920457 0.816775\n",
      " 0.89876359 0.85444019 0.94833102 0.4139215  0.98259355 0.51588051\n",
      " 0.59452554 0.52306148 0.93231579 0.98356026 0.1496529  0.74810048\n",
      " 0.91875377 0.78649533 0.9826651  0.78712427 0.92437191 0.98602915\n",
      " 0.52949162 0.6361601  0.91193846 0.75027884 0.66648724 0.92613599\n",
      " 0.67347362 0.24917141 0.68182204 0.79616123 0.81038279 0.9973096\n",
      " 0.28058888 0.68531045 0.85634687 0.61610478 0.58987087 0.8059705\n",
      " 0.84817584 0.93469802 0.91866396 0.99644146 0.99275081 0.93033424\n",
      " 0.92748326 0.96921245 0.77040676 0.83094683 0.41731991 0.83070649\n",
      " 0.16494428 0.86989232 0.94698108 0.57157804 0.93370261 0.8733781\n",
      " 0.47932921 0.96279761 0.91498176 0.70247045 0.61844286 0.87976478\n",
      " 0.4374326  0.77000508 0.76654996 0.7592704  0.97794035 0.65770867\n",
      " 0.96151148 0.80409984 0.82003645 0.93709445 0.7721824  0.99971391\n",
      " 0.93716428 0.98303837 0.74708103 0.97650927 0.84894882 0.83189948\n",
      " 0.44218055 0.92685253 0.98766036 0.68800716 0.82604786 0.9603058\n",
      " 0.82281244 0.94020569 0.88441848 0.89893588 0.95185672 0.84100738\n",
      " 0.77742105 0.97274034 0.70004465 0.94957453 0.550681   0.59712106\n",
      " 0.9777147  0.60254036 0.87967918 0.63104457 0.3563709  0.96848712\n",
      " 0.85557089 0.89650396 0.75137755 0.46640816 0.81519575 0.95872318\n",
      " 0.93401658 0.84545168 0.63411948 0.99551279 0.91914533 0.34185774\n",
      " 0.84198466 0.72795549 0.94107607 0.53275833 0.8033884  0.66630071\n",
      " 0.32353218 0.98459454 0.77976529 0.56329917 0.88517752 0.95846936\n",
      " 0.90292201 0.74089952 0.81707832 0.74123077 0.86679219 0.56747675\n",
      " 0.80900503 0.68102969 0.76830901 0.98833637 0.97070697 0.33695769\n",
      " 0.68293823 0.88837116 0.9262113  0.53558591 0.98626852 0.81434094\n",
      " 0.93136871 0.80319254 0.95185397 0.93539841 0.63298151 0.64180358\n",
      " 0.76022436 0.74231868 0.76165297 0.96132006 0.61421019 0.67079137\n",
      " 0.90682303 0.78405866 0.98814035 0.71852344 0.84950351 0.41062494\n",
      " 0.83485831 0.39934529 0.23242389 0.78342913 0.88848471 0.52068083\n",
      " 0.62113524 0.74272016 0.78785081 0.80390957 0.92081079 0.84611142\n",
      " 0.84491914 0.77665089 0.39829461 0.78138662 0.60368413 0.61869403\n",
      " 0.92799819 0.70759865 0.99351403 0.49425804 0.98427914 0.99786005\n",
      " 0.76837076 0.64171092 0.59111822 0.91107124 0.89537514 0.13977962\n",
      " 0.75095587 0.92966619 0.90536271 0.76656418 0.9589971  0.57870492\n",
      " 0.714034   0.50674676 0.949766   0.86483218 0.84714114 0.98065557\n",
      " 0.69711739 0.93453309 0.5628211  0.96413887 0.47134318 0.6233147\n",
      " 0.34674946 0.66401719 0.87636846 0.76799118 0.83873048 0.56026717\n",
      " 0.5892155  0.66919023 0.65229026 0.86958229 0.77201738 0.87601983\n",
      " 0.83333417 0.92724545 0.92278977 0.96235966 0.54628821 0.86753899\n",
      " 0.93941964 0.74615887 0.4709449  0.84726711 0.76163559 0.58379689\n",
      " 0.56325314 0.54382235 0.83366756 0.9192366  0.76181337 0.94624961\n",
      " 0.61775532 0.89230356 0.92100905 0.6657395  0.80532702 0.95089451\n",
      " 0.80520496 0.49934427 0.67085703 0.4678097  0.5202304  0.91660052\n",
      " 0.88188779 0.63834184 0.99183527 0.99287519 0.81830199 0.43030185\n",
      " 0.67317254 0.98744579 0.8416098  0.80701358 0.83440835 0.69609996\n",
      " 0.89882323 0.96556204 0.9444147  0.99622552 0.90887121 0.74939633\n",
      " 0.55678228 0.81997639 0.96754226 0.84272069 0.85137098 0.71062845\n",
      " 0.83635656 0.49591576 0.95986252 0.39883389 0.89906885 0.47570183\n",
      " 0.83911309 0.49217103 0.66971523 0.71529055 0.58983877 0.86352645\n",
      " 0.77266727 0.96245145 0.95527602 0.55583239 0.75738642 0.79926471\n",
      " 0.80438348 0.52460831 0.9936812  0.91257092 0.45933555 0.91495761\n",
      " 0.37028911 0.66096062 0.9226447  0.78863041 0.79511455 0.4884272\n",
      " 0.88024703 0.63737072 0.99974976 0.68136973 0.71914122 0.49914882\n",
      " 0.96740862 0.65748785 0.67320196 0.87588743 0.85366347 0.52865068\n",
      " 0.92689069 0.66719536 0.99027206 0.51778766 0.95097444 0.74705367\n",
      " 0.75668285 0.73216426 0.99183909 0.26480715 0.29729422 0.40042142\n",
      " 0.97607721 0.74722739 0.72649219 0.29862714 0.99500088 0.76027544\n",
      " 0.96480031 0.88982955 0.59188302 0.59048627 0.76455971 0.94337932\n",
      " 0.95059695 0.70192581 0.97961274 0.97147154 0.74835364 0.95164007\n",
      " 0.77622924 0.69000538 0.96497757 0.91932    0.23602433 0.92633407\n",
      " 0.89322751 0.28500607 0.98418722 0.55875794 0.74061516 0.92440676\n",
      " 0.77546916 0.7805368  0.55594254 0.72590334 0.70938984 0.8405059\n",
      " 0.45873012 0.6336707  0.68259375 0.8598322  0.83273073 0.54595339\n",
      " 0.817852   0.68418117 0.8693713  0.51373494 0.58979834 0.40818865\n",
      " 0.29206733 0.64865955 0.70212008 0.74573597 0.65942548 0.77459199\n",
      " 0.99035169 0.61895625 0.4994668  0.41108845 0.79107237 0.81693761\n",
      " 0.95065033 0.69753839 0.58457804 0.73610066 0.92987153 0.91747732\n",
      " 0.98406186 0.48429688 0.66009707 0.82844894 0.68603036 0.96086393\n",
      " 0.84630361 0.45448602 0.62678258 0.92168471 0.99766898 0.75071513\n",
      " 0.65859426 0.61296754 0.94641482 0.87141868 0.89185118 0.64614394\n",
      " 0.77632344 0.72809549 0.63331671 0.57359831 0.95625938 0.86431098\n",
      " 0.83502076 0.77249542 0.6226133  0.56375003 0.8445793  0.94822132\n",
      " 0.49366802 0.8267481  0.56256284 0.6340227  0.84514057 0.60918275\n",
      " 0.79503548 0.87374945 0.90236696 0.90068085 0.60215997 0.65406064\n",
      " 0.74264767 0.95737358 0.75705346 0.77923209 0.90787672 0.71386578\n",
      " 0.96205973 0.72696231 0.82630163 0.56270807 0.82265995 0.6434971\n",
      " 0.84754016 0.32144909 0.89604229 0.96595774 0.97480921 0.75453776\n",
      " 0.99699776 0.6435385  0.48012468 0.80089557 0.25109442 0.7625116\n",
      " 0.43104814 0.93485194 0.96626536 0.72364211 0.55630991 0.75723727\n",
      " 0.71231288 0.85991799 0.82615792 0.2945456  0.96159474 0.58211376\n",
      " 0.81543039 0.81117529 0.98892912 0.99309789 0.91325409 0.90232539\n",
      " 0.91587525 0.75880788 0.84182471 0.99603379 0.95810048 0.29012184\n",
      " 0.75560515 0.48158577 0.92275876 0.56339898 0.80159408 0.67541393\n",
      " 0.55059771 0.9244434  0.8825185  0.86429475 0.79369081 0.78021827\n",
      " 0.58205817 0.65083753 0.72441767 0.97126216 0.62625201 0.56212517\n",
      " 0.94874252 0.81752648 0.91610799 0.95040119 0.53547891 0.81278371\n",
      " 0.52728707 0.61550539 0.24361641 0.99546919 0.90129533 0.77672763\n",
      " 0.50079973 0.50465292 0.89175698 0.95446376 0.83622562 0.6634464\n",
      " 0.63840587 0.76768769 0.69338561 0.91162012 0.80622563 0.59111466\n",
      " 0.42112003 0.29641981 0.84609392 0.96798049 0.37169343 0.96876007\n",
      " 0.94810096 0.28037423 0.79275358 0.83159643 0.6182916  0.92346207\n",
      " 0.79793515 0.64666789 0.86331589 0.81635267 0.58936085 0.656688\n",
      " 0.98948222 0.55055351 0.77812149 0.99395589 0.70885329 0.76125743\n",
      " 0.96699702 0.74247084 0.53517098 0.86308712 0.79258655 0.55948575\n",
      " 0.77061836 0.93934018 0.99377965 0.62788864 0.63983671 0.49405906\n",
      " 0.42759683 0.61808514 0.9795989  0.87795127 0.87296656 0.89862763\n",
      " 0.62992619 0.57831677 0.98057004 0.98941324 0.43856715 0.92996366\n",
      " 0.93197974 0.79299972 0.73999088 0.86888347 0.61362057 0.42070537\n",
      " 0.14839096 0.84300035 0.58388873 0.85156311 0.75404184 0.7518214\n",
      " 0.93644002 0.4938339  0.39647277 0.73110471 0.92041312 0.91088915\n",
      " 0.76036374 0.84964012 0.80582389 0.06348423 0.70261334 0.99668611\n",
      " 0.90282489 0.49008168 0.95069772 0.53404638 0.9296879  0.75540369\n",
      " 0.85336055 0.31541783 0.91804423 0.91878129 0.85585557 0.94762564\n",
      " 0.91743044 0.9700956  0.93932153 0.35197997 0.81907835 0.48598351\n",
      " 0.38507172 0.97537371 0.6843994  0.57955709 0.60969637 0.69482977\n",
      " 0.61822692 0.7985305  0.76339702 0.96814345 0.47284597 0.9105979\n",
      " 0.79076443 0.65832554 0.59645263 0.91932418 0.71435608 0.52595988\n",
      " 0.86028013 0.59207723 0.14321311 0.6492925  0.64357826 0.94864046\n",
      " 0.93656988 0.78766653 0.61697984 0.63686046 0.37813553 0.89235221\n",
      " 0.82693579 0.78616704 0.63701426 0.99452654 0.58072337 0.57471285\n",
      " 0.38250911 0.6242287  0.54234383 0.72008558 0.7437698  0.67848971\n",
      " 0.78851532 0.83376496 0.77917404 0.51371734 0.60214603 0.93703972\n",
      " 0.84988469 0.59467005 0.89644355 0.92172628 0.70190899 0.41635021\n",
      " 0.63926908 0.71719294 0.93549123 0.7272814  0.82607409 0.94319278\n",
      " 0.96044913 0.81659815 0.98429217 0.86793425 0.8050988  0.76400261\n",
      " 0.79988868 0.71324206 0.20125855 0.25413941 0.50381642 0.72094673\n",
      " 0.9863388  0.76489382 0.63405936 0.300718   0.94385526 0.97412351\n",
      " 0.99857852 0.53141701 0.51674552 0.74856214 0.92754092 0.9800116\n",
      " 0.44270788 0.93081961 0.35641311 0.94344366 0.47116217 0.72765817\n",
      " 0.60212468 0.46291052 0.86504399 0.94318482 0.87913519 0.92293319\n",
      " 0.87489291 0.95784395 0.85532301 0.74553459 0.78635409 0.87758678\n",
      " 0.91480978 0.73694123 0.57732365 0.92721489 0.84076387 0.53751591\n",
      " 0.6905049  0.81911038 0.42656851 0.36571255 0.64625096 0.61727795\n",
      " 0.77596184 0.45599661 0.90318205 0.84777982 0.53650939 0.7513464\n",
      " 0.76687032 0.86948456 0.64993816 0.8805709  0.75583353 0.77639305\n",
      " 0.40767504 0.64965173 0.84372551 0.50716935 0.91683448 0.91678878\n",
      " 0.38484526 0.48414332 0.64024668 0.64304859 0.6665077  0.94965821\n",
      " 0.88594004 0.61770782 0.80314473 0.3965758  0.69650939 0.89061743\n",
      " 0.91265098 0.87694415 0.41852746 0.88414326 0.97150593 0.77995976\n",
      " 0.97142361 0.44863033 0.65714279 0.96036821 0.96870683 0.93691849\n",
      " 0.9943305  0.68478794 0.26523581 0.98081281 0.99256117 0.84135931\n",
      " 0.94353635 0.91839899 0.87034278 0.49862295 0.62373958 0.39579994\n",
      " 0.88448266 0.90647424 0.94418501 0.90346901 0.87393617 0.92122435\n",
      " 0.71584575 0.96403056 0.96603441 0.75375806 0.90245524 0.77392691\n",
      " 0.48893014 0.83065582 0.86170069 0.44558365 0.76570206 0.87260068\n",
      " 0.88100577 0.90217784 0.31803813 0.52484209 0.98357013 0.9510699\n",
      " 0.94779594 0.73535963 0.72593085 0.80542553 0.59882258 0.89517186\n",
      " 0.87999523 0.28156967 0.13141596 0.57877105 0.92651362 0.75509295\n",
      " 0.68538837 0.86787082 0.72647545 0.83623406 0.64516935 0.94397883\n",
      " 0.78380957 0.63440578 0.71978468 0.96375304 0.45406019 0.76060065\n",
      " 0.69750756 0.78924283 0.39839729 0.99068422 0.47548059 0.8490339\n",
      " 0.95160839 0.70537917 0.60555668 0.40514798 0.85226382 0.86298874\n",
      " 0.94718993 0.94233697 0.927621   0.38024289 0.67727305 0.37577558\n",
      " 0.6037445  0.56912809 0.63842833 0.85956582 0.78885629 0.64627044\n",
      " 0.98245893 0.52399889 0.56523184 0.94898668 0.65348168 0.60221565\n",
      " 0.88777463 0.75219006 0.51878363 0.9364356  0.79882646 0.96857429\n",
      " 0.81401719 0.86885629 0.97459713 0.60141584 0.70114233 0.82584242\n",
      " 0.75843572 0.5438256  0.94181036 0.85049207 0.96848076 0.90637033\n",
      " 0.43744492 0.59115429 0.60500992 0.47223727 0.91192418 0.86010598\n",
      " 0.76768003 0.87765168 0.64340855 0.78215624 0.62424014 0.74169787\n",
      " 0.39858747 0.56376148 0.7983535  0.64658765 0.77160192 0.88252621\n",
      " 0.2739258  0.70894167 0.94162138 0.84123355 0.81063961 0.92573407\n",
      " 0.42825595 0.88834297 0.83665983 0.78452596 0.6505794  0.81902073\n",
      " 0.75687755 0.80306721 0.99557601 0.99256223 0.91338727 0.66742802\n",
      " 0.67130973 0.64396144 0.98525545 0.84590481 0.77571249 0.75814895\n",
      " 0.91315367 0.71782083 0.96221257 0.8683398  0.93398121 0.60518407\n",
      " 0.91627737 0.96261493 0.80812194 0.70841948 0.49471579 0.82534183\n",
      " 0.60162463 0.40767991 0.64898997 0.60043597 0.79370861 0.72316875\n",
      " 0.93240056 0.4635054  0.85604482 0.52499162 0.87110662 0.62704118\n",
      " 0.60366153 0.82508746 0.62035833 0.93828822 0.66598358 0.97453212\n",
      " 0.60529329 0.5972663  0.87296345 0.55749144 0.37768196 0.52261644\n",
      " 0.96623849 0.41240242 0.40677382 0.56289125 0.93352845 0.92217328\n",
      " 0.88037031 0.82166097 0.70509148 0.80402835]\n"
     ]
    }
   ],
   "source": [
    "#利用反轉換法模擬由機率分配函數𝑓𝑋(𝑥)=3𝑥^2,0 < 𝑥 <1所產生的隨機樣本\n",
    "#CDF FX(x)是對pdf 𝑓𝑋(𝑥) 的積分\n",
    "n = 1000\n",
    "u = np.random.uniform(0,1,n)\n",
    "x = u**(1/3)\n",
    "print(x)"
   ]
  },
  {
   "cell_type": "code",
   "execution_count": 35,
   "metadata": {},
   "outputs": [
    {
     "name": "stdout",
     "output_type": "stream",
     "text": [
      "Collecting matplotlib\n",
      "  Downloading matplotlib-3.9.2-cp311-cp311-win_amd64.whl.metadata (11 kB)\n",
      "Collecting contourpy>=1.0.1 (from matplotlib)\n",
      "  Downloading contourpy-1.3.0-cp311-cp311-win_amd64.whl.metadata (5.4 kB)\n",
      "Collecting cycler>=0.10 (from matplotlib)\n",
      "  Downloading cycler-0.12.1-py3-none-any.whl.metadata (3.8 kB)\n",
      "Collecting fonttools>=4.22.0 (from matplotlib)\n",
      "  Downloading fonttools-4.54.1-cp311-cp311-win_amd64.whl.metadata (167 kB)\n",
      "     ---------------------------------------- 0.0/167.0 kB ? eta -:--:--\n",
      "     ------- ------------------------------- 30.7/167.0 kB 1.3 MB/s eta 0:00:01\n",
      "     ------------------------- ------------ 112.6/167.0 kB 1.3 MB/s eta 0:00:01\n",
      "     -------------------------------------- 167.0/167.0 kB 1.7 MB/s eta 0:00:00\n",
      "Collecting kiwisolver>=1.3.1 (from matplotlib)\n",
      "  Downloading kiwisolver-1.4.7-cp311-cp311-win_amd64.whl.metadata (6.4 kB)\n",
      "Requirement already satisfied: numpy>=1.23 in c:\\users\\user\\appdata\\local\\packages\\pythonsoftwarefoundation.python.3.11_qbz5n2kfra8p0\\localcache\\local-packages\\python311\\site-packages (from matplotlib) (2.1.1)\n",
      "Requirement already satisfied: packaging>=20.0 in c:\\users\\user\\appdata\\local\\packages\\pythonsoftwarefoundation.python.3.11_qbz5n2kfra8p0\\localcache\\local-packages\\python311\\site-packages (from matplotlib) (24.1)\n",
      "Requirement already satisfied: pillow>=8 in c:\\users\\user\\appdata\\local\\packages\\pythonsoftwarefoundation.python.3.11_qbz5n2kfra8p0\\localcache\\local-packages\\python311\\site-packages (from matplotlib) (10.4.0)\n",
      "Collecting pyparsing>=2.3.1 (from matplotlib)\n",
      "  Downloading pyparsing-3.1.4-py3-none-any.whl.metadata (5.1 kB)\n",
      "Requirement already satisfied: python-dateutil>=2.7 in c:\\users\\user\\appdata\\local\\packages\\pythonsoftwarefoundation.python.3.11_qbz5n2kfra8p0\\localcache\\local-packages\\python311\\site-packages (from matplotlib) (2.9.0.post0)\n",
      "Requirement already satisfied: six>=1.5 in c:\\users\\user\\appdata\\local\\packages\\pythonsoftwarefoundation.python.3.11_qbz5n2kfra8p0\\localcache\\local-packages\\python311\\site-packages (from python-dateutil>=2.7->matplotlib) (1.16.0)\n",
      "Downloading matplotlib-3.9.2-cp311-cp311-win_amd64.whl (7.8 MB)\n",
      "   ---------------------------------------- 0.0/7.8 MB ? eta -:--:--\n",
      "    --------------------------------------- 0.2/7.8 MB 5.9 MB/s eta 0:00:02\n",
      "   --- ------------------------------------ 0.6/7.8 MB 6.5 MB/s eta 0:00:02\n",
      "   ---- ----------------------------------- 1.0/7.8 MB 7.5 MB/s eta 0:00:01\n",
      "   ---- ----------------------------------- 1.0/7.8 MB 7.5 MB/s eta 0:00:01\n",
      "   ---------- ----------------------------- 2.0/7.8 MB 10.5 MB/s eta 0:00:01\n",
      "   ------------ --------------------------- 2.5/7.8 MB 8.9 MB/s eta 0:00:01\n",
      "   ---------------- ----------------------- 3.3/7.8 MB 10.0 MB/s eta 0:00:01\n",
      "   --------------------- ------------------ 4.1/7.8 MB 11.0 MB/s eta 0:00:01\n",
      "   ------------------------- -------------- 4.9/7.8 MB 11.6 MB/s eta 0:00:01\n",
      "   ----------------------------- ---------- 5.7/7.8 MB 12.1 MB/s eta 0:00:01\n",
      "   --------------------------------- ------ 6.5/7.8 MB 12.6 MB/s eta 0:00:01\n",
      "   ------------------------------------- -- 7.4/7.8 MB 13.0 MB/s eta 0:00:01\n",
      "   ---------------------------------------- 7.8/7.8 MB 13.2 MB/s eta 0:00:00\n",
      "Downloading contourpy-1.3.0-cp311-cp311-win_amd64.whl (217 kB)\n",
      "   ---------------------------------------- 0.0/217.2 kB ? eta -:--:--\n",
      "   --------------------------------------- 217.2/217.2 kB 13.8 MB/s eta 0:00:00\n",
      "Downloading cycler-0.12.1-py3-none-any.whl (8.3 kB)\n",
      "Downloading fonttools-4.54.1-cp311-cp311-win_amd64.whl (2.2 MB)\n",
      "   ---------------------------------------- 0.0/2.2 MB ? eta -:--:--\n",
      "   --------------- ------------------------ 0.8/2.2 MB 27.1 MB/s eta 0:00:01\n",
      "   ------------------------------- -------- 1.7/2.2 MB 18.4 MB/s eta 0:00:01\n",
      "   ---------------------------------------- 2.2/2.2 MB 17.6 MB/s eta 0:00:00\n",
      "Downloading kiwisolver-1.4.7-cp311-cp311-win_amd64.whl (56 kB)\n",
      "   ---------------------------------------- 0.0/56.0 kB ? eta -:--:--\n",
      "   ---------------------------------------- 56.0/56.0 kB 3.1 MB/s eta 0:00:00\n",
      "Downloading pyparsing-3.1.4-py3-none-any.whl (104 kB)\n",
      "   ---------------------------------------- 0.0/104.1 kB ? eta -:--:--\n",
      "   ---------------------------------------- 104.1/104.1 kB ? eta 0:00:00\n",
      "Installing collected packages: pyparsing, kiwisolver, fonttools, cycler, contourpy, matplotlib\n",
      "Successfully installed contourpy-1.3.0 cycler-0.12.1 fonttools-4.54.1 kiwisolver-1.4.7 matplotlib-3.9.2 pyparsing-3.1.4\n",
      "Note: you may need to restart the kernel to use updated packages.\n"
     ]
    },
    {
     "name": "stderr",
     "output_type": "stream",
     "text": [
      "\n",
      "[notice] A new release of pip is available: 24.0 -> 24.2\n",
      "[notice] To update, run: C:\\Users\\USER\\AppData\\Local\\Microsoft\\WindowsApps\\PythonSoftwareFoundation.Python.3.11_qbz5n2kfra8p0\\python.exe -m pip install --upgrade pip\n"
     ]
    }
   ],
   "source": [
    "pip install matplotlib"
   ]
  },
  {
   "cell_type": "code",
   "execution_count": 12,
   "metadata": {},
   "outputs": [
    {
     "data": {
      "text/plain": [
       "[<matplotlib.lines.Line2D at 0x19b60585890>]"
      ]
     },
     "execution_count": 12,
     "metadata": {},
     "output_type": "execute_result"
    },
    {
     "data": {
      "image/png": "[encoded data removed]",
      "text/plain": [
       "<Figure size 640x480 with 1 Axes>"
      ]
     },
     "metadata": {},
     "output_type": "display_data"
    }
   ],
   "source": [
    "import matplotlib.pyplot as plt\n",
    "plt.hist(x,bins=30, density=True, alpha=0.6, color='g')\n",
    "\n",
    "\n",
    "y = np.linspace(0,1, 100)\n",
    "plt.plot(y,3*y**2,'r-',lw=2)"
   ]
  },
  {
   "cell_type": "markdown",
   "metadata": {},
   "source": [
    "1.LaTeX 語法：使用 r'$...$' 來包含數學公式。公式中的符號如 \\frac{1}{\\lambda} 表示分數，\\log(u) 表示對數函數。\n",
    "2.原始字符串：使用 r'...'，即原始字符串語法，這樣可以避免 Python 解釋反斜杠（\\），從而正確處理 LaTeX 語法。\n",
    "3.分數：\\frac{a}{b} 用來表示 a/b 的形式。\n"
   ]
  },
  {
   "cell_type": "code",
   "execution_count": 16,
   "metadata": {},
   "outputs": [
    {
     "data": {
      "text/plain": [
       "Text(0.5, 1.0, '$x = -\\\\frac{1}{\\\\lambda} \\\\log(u)$')"
      ]
     },
     "execution_count": 16,
     "metadata": {},
     "output_type": "execute_result"
    },
    {
     "data": {
      "image/png": "[encoded data removed]",
      "text/plain": [
       "<Figure size 640x480 with 1 Axes>"
      ]
     },
     "metadata": {},
     "output_type": "display_data"
    }
   ],
   "source": [
    "#運用反轉換法產生服從平均數為1/𝜆的指數分佈的隨機樣本\n",
    "n = 1000\n",
    "lmbda = 2\n",
    "\n",
    "u = np.random.uniform(0,1,n)\n",
    "x = -np.log(u) / lmbda\n",
    "\n",
    "plt.hist(x, bins=30, density=True, alpha=0.6, color='g')\n",
    "plt.title(r'$x = -\\frac{1}{\\lambda} \\log(u)$', fontsize=16)\n"
   ]
  },
  {
   "cell_type": "code",
   "execution_count": 52,
   "metadata": {},
   "outputs": [
    {
     "name": "stdout",
     "output_type": "stream",
     "text": [
      "[1 0 1 1 0 0 1 0 1 0 1 0 1 0 0 1 1 0 0 1 0 0 0 0 0 0 0 1 0 1 0 1 1 1 0 0 0\n",
      " 0 0 1 1 0 0 1 0 0 1 0 1 0 0 0 1 0 0 0 0 0 1 1 1 0 0 1 0 1 0 0 1 1 0 1 0 1\n",
      " 1 1 0 1 0 1 0 1 0 0 0 1 1 1 1 0 0 1 0 0 0 0 0 0 1 1 1 1 0 1 1 0 0 0 1 0 1\n",
      " 0 1 1 0 1 0 0 1 0 0 0 0 0 1 0 1 1 0 0 1 1 0 0 1 0 1 1 0 1 0 1 0 1 0 1 0 0\n",
      " 0 1 0 1 0 1 0 0 0 1 1 0 0 1 0 1 0 0 1 0 0 1 1 0 1 0 0 0 1 0 0 0 1 0 0 0 0\n",
      " 0 1 0 1 1 0 0 1 0 0 1 0 0 1 1 1 0 0 0 0 0 0 0 0 1 0 1 1 1 1 1 1 0 1 0 0 0\n",
      " 1 1 0 1 0 0 0 1 1 0 1 0 1 0 1 0 1 0 0 0 0 1 0 0 0 0 0 1 0 1 0 0 0 1 0 1 0\n",
      " 1 1 1 0 0 0 1 0 1 0 0 1 0 0 0 1 0 1 0 0 1 0 1 1 1 1 1 1 0 0 0 0 1 0 0 0 0\n",
      " 1 1 1 0 0 0 1 0 0 0 1 0 1 0 0 0 1 1 0 1 0 1 0 0 1 1 1 0 1 0 0 0 1 0 0 0 1\n",
      " 0 1 0 1 0 0 0 1 1 1 0 0 0 1 1 0 1 1 0 0 0 1 0 0 1 1 0 0 1 1 0 1 0 0 0 1 1\n",
      " 0 0 0 1 0 0 0 0 1 0 1 1 0 1 1 0 0 1 0 0 0 0 0 1 0 0 0 1 1 1 0 0 0 0 0 1 0\n",
      " 1 1 0 1 0 1 0 0 1 0 1 1 0 1 1 1 0 1 0 0 0 0 0 1 0 0 0 1 1 0 0 1 0 1 0 1 0\n",
      " 0 1 0 0 0 0 1 0 1 0 0 0 0 0 0 1 0 0 0 1 1 1 0 1 1 1 0 0 0 1 1 0 1 0 1 1 0\n",
      " 1 0 0 1 0 0 0 1 0 0 0 1 1 1 1 0 1 0 1 0 0 1 1 1 1 1 0 1 0 0 1 0 0 1 0 0 1\n",
      " 1 0 1 0 1 0 0 0 0 1 1 0 0 1 0 0 0 1 1 0 1 0 0 0 0 1 0 1 1 0 1 1 0 0 1 0 0\n",
      " 0 1 0 0 0 0 0 0 1 0 0 1 0 1 0 0 0 1 0 0 0 1 0 1 0 0 1 0 0 1 1 0 0 0 1 1 1\n",
      " 0 1 1 0 0 0 1 0 1 0 0 1 0 1 1 1 1 1 1 1 0 1 0 1 0 1 1 0 1 1 0 1 1 0 1 0 0\n",
      " 0 0 0 0 1 1 0 0 0 0 0 1 1 0 0 0 1 1 1 0 1 1 1 0 0 0 1 1 1 0 1 1 0 1 1 0 1\n",
      " 1 1 0 0 1 0 0 0 0 0 0 1 0 0 1 0 0 0 0 1 0 0 0 0 0 0 1 0 0 0 0 0 1 1 0 0 0\n",
      " 0 1 0 1 1 1 0 0 0 1 1 1 0 0 1 1 0 1 0 0 1 1 0 0 1 0 1 0 0 1 1 0 0 0 1 1 0\n",
      " 0 0 1 0 0 1 1 0 0 0 0 1 0 0 1 1 0 1 0 0 0 1 0 0 1 1 1 0 1 0 0 1 1 0 1 0 0\n",
      " 0 1 0 0 0 0 0 0 1 0 1 0 1 1 1 0 1 1 1 0 1 1 0 0 0 0 1 1 0 0 1 0 0 0 1 1 0\n",
      " 0 1 1 1 1 1 0 0 0 0 1 0 0 0 1 1 0 0 1 0 1 0 0 0 0 0 1 1 0 1 1 0 1 0 1 1 1\n",
      " 0 1 1 1 1 0 0 1 0 0 0 1 1 0 1 0 0 1 0 0 1 1 0 1 0 0 1 1 0 0 0 1 0 0 1 1 0\n",
      " 0 0 0 0 0 1 0 0 1 0 1 0 0 1 1 0 0 0 1 0 1 1 1 1 1 1 0 1 0 1 0 0 1 1 1 1 0\n",
      " 0 0 1 1 1 1 0 1 0 0 1 0 0 0 1 0 0 0 0 0 0 1 0 0 0 0 1 0 0 1 0 1 0 0 1 0 0\n",
      " 0 1 1 1 1 0 0 1 0 0 0 1 0 1 0 0 0 1 1 0 1 0 1 1 1 1 0 0 0 0 0 1 1 0 1 0 0\n",
      " 0]\n"
     ]
    }
   ],
   "source": [
    "#運用反種換法產生Bernoulli(p=0.4) 的隨機樣本\n",
    "\n",
    "n = 1000\n",
    "p = 0.4\n",
    "u = np.random.uniform(0,1,n)\n",
    "x = (u <= p).astype(int)\n",
    "print(x)\n",
    "\n",
    "\n"
   ]
  },
  {
   "cell_type": "code",
   "execution_count": 55,
   "metadata": {},
   "outputs": [
    {
     "name": "stdout",
     "output_type": "stream",
     "text": [
      "[ 6  1  0  0  0  2 12  0  1  0  4  0  3  6  5  3  3  0  0  0  3  1  3  2\n",
      " 17  5  1  1  3  6  0  4  0  5  2  5  1  0  2  0  5  0  0  5  3  3  6  0\n",
      "  8  0  0  1  1  1  0  0  0  5  2  0  9  3  0  4  2 10  0  3  1  4  8  7\n",
      "  4  0  4  0  5  0  6  0  4  0  4  1  1  0  2  7  9 12  7  1  7  5 12  4\n",
      "  0  2  0  2  1  1  2  1  0  2  3  0  0  0  7  3  2  1  0  0  3  4  5 10\n",
      "  0  1 19  4  0  1  1  7  9  1  0  1  1  2  0 12 10  0  4  0  1  0  2  3\n",
      "  1  3  4  1  3  3  4  0  0  2  3  0  0  3  1  1  3  1  8  2  2  4  7 11\n",
      " 20 28  8  0  9  0  0  0  3  2  1  4  1  1  3  2  1  2  0  1  2  4  1  0\n",
      "  0  8  1  4  1  1  5  0  1  9  6  2  2  2  4  0  3  6 13  3  1  2  0  0\n",
      "  2 13  6  3  3  2  7  3  6  1  2  2 20  4  1  1  2  7  3  2  8  0  3  0\n",
      "  2  0  3  6  0  4  9  2  4  1  6  0  8  2  0 13  0  0  1  5  4  2  6  0\n",
      "  8  2 10  0  5  1  3  1  2  0  1  0  0  4  5  0  0  0  3  0  0  1  3  0\n",
      "  2  1  0  0  0  0  2  4  1  1 10  8  2  1  3  0  2  0 12  1  2  0  4  4\n",
      "  2  2  0  4  6  1  0  7  0  3  0  5  4  9  0 14  0  0  3  2  0  0  5  1\n",
      "  1  5  0  1  0  0  1  0  5  2  7  1  0  3  5  7  0  2  1  0  9 15  3  2\n",
      "  0  2  1  1  2  0 10  1  2 11  2  3  3  4  7  0  0  1  3  2  4  2  5  7\n",
      "  2  4  0  1  1  2  3  0  2  0  4  0 12  3  1  6  0  0  4  6  1  8  1  0\n",
      "  0  0  0  3  2  0  2  2  0  6  3  0  4  1 13  1 10  0  8  0  1  1  3  5\n",
      "  5  3  9  2  1  0  6  1  1  0  0  8  1  1  2  0  0  7  1  0  8  6  4  0\n",
      "  1  4  0  9  3  2  0  0 13  2  1  3  2  2  6  6  0  1  0  0  1  0  0  0\n",
      "  3  0  2  0  8  1  3  8  6  4  8  0  3  8  1  3  8  1  5  3  2  9  3  1\n",
      "  5  0  1  2  8  3  2  2  0  2  5  0  1  6  0  4  2  1  0  0  1 14  1  1\n",
      "  4  3  0  0  0  1  1  7  2  2  0 10  4  3  2 11  5  5  6  2  2  2  2  0\n",
      "  2  4  0 12  7  5  5  0  2  2  1  8  3  3  4  2  3  2  2  0  3  1  2  7\n",
      "  0  2  4  1  0  1  3  1  3  4  0  4  0  0  0  0  0  4  9  1  0  0  5  1\n",
      "  2  0 11  0  2  1  4  2 12  2  7  3  0  3  2  1  1  0  5  8  0 24  0  0\n",
      "  2  2  6  4  0  2  6  0  5  1  0  0  3  4  3  1  2  4  0  6  1  2  2  0\n",
      "  4  1  3  0 19  1  3  0  1  0  3 17  0  4  0  3  0  4  1  6  1  4  0  3\n",
      " 13  0  1  0  2  4  5  2  3  0  0  0  8  0  0  0  2  1  0  5  2  3  3  7\n",
      "  5  0  1  2  0  2  5  0  6  1  4  1  2  4  3  4  2  1  3  0  0  0  6  4\n",
      "  2  0  1  1  5  0  2  6  0  4  1  2  5  0 14  0 16  3  2 11 22  1  4  3\n",
      "  1  3  4  7  0  2  1  1  0  0  2  0  7  0  2  8  1  1  2  3  3  2  0  9\n",
      "  3 13  2  9  3  6  0  2  0  6  4  3  1  3  3  4  5  4  3  3  6  1  0  5\n",
      "  7  0  0  0  0  0  1  0  0  4  3  7  0  1  4  0  3  0  1  1  2  2  5  2\n",
      " 16  0  0  2  1  3  6  0  3  7  7  5  4  2 14  2  0  5  1  3  3  5 10  2\n",
      "  0  1  3  8  5  0  2  4  2  0  2 10  2  4  1  1  5  9  2  0  5  2  4  2\n",
      "  8  0  5 13  7  6  0  1  0  0  4  1  5  1  2  3  4  0  4  6  1  2  9  0\n",
      "  0  6  1 11  1  6  0  1  6  0  7  0  0  2  0 28  4  2  2  8 10  7 13  1\n",
      "  2  5  1  3  0  0  1  5 13  2  4  0  5  1  1  4  2  0  2  0  1  1  1  3\n",
      " 13  4  1  2  2  1  0  5  5  3  2  2 10  6  0  0  1  1  0  4  1  3  3  2\n",
      "  9  4  8  1  0  1  4 14  9  0  0  0  0  1  4  1  4  3 10 10  1  8  1  1\n",
      " 12 10  6  4  2  4  2  5  1  2  6  3  0  5  6  0]\n"
     ]
    }
   ],
   "source": [
    "#使用反轉換法產生參數𝑝=1/4的隨機幾何樣本\n",
    "\n",
    "n = 1000\n",
    "p = 0.25\n",
    "u = np.random.uniform(0,1,n)\n",
    "x = np.floor(np.log(1-u)/np.log(1-p)).astype(int)\n",
    "print(x)"
   ]
  },
  {
   "cell_type": "code",
   "execution_count": 54,
   "metadata": {},
   "outputs": [
    {
     "data": {
      "text/plain": [
       "array([388], dtype=int32)"
      ]
     },
     "execution_count": 54,
     "metadata": {},
     "output_type": "execute_result"
    }
   ],
   "source": []
  },
  {
   "cell_type": "code",
   "execution_count": 1,
   "metadata": {},
   "outputs": [
    {
     "name": "stdout",
     "output_type": "stream",
     "text": [
      "[4 2 2 3 2 2 4 4 1 7]\n"
     ]
    }
   ],
   "source": [
    "import numpy as np\n",
    "\n",
    "# 產生卜瓦松分布的隨機樣本\n",
    "lambda_value = 3  # lambda值\n",
    "size = 10  # 樣本數量\n",
    "\n",
    "poisson_samples = np.random.poisson(lam=lambda_value, size=size)\n",
    "print(poisson_samples)\n"
   ]
  },
  {
   "cell_type": "code",
   "execution_count": 4,
   "metadata": {},
   "outputs": [],
   "source": [
    "#試利用反轉換法產生Logarithmic(𝜃)的隨機樣本\n",
    "\n",
    "import numpy as np\n",
    "\n",
    "def rlogarithmic(n, theta):\n",
    "    # returns a random logarithmic(theta) sample of size n\n",
    "    u = np.random.uniform(size=n)  # generate n uniform random numbers\n",
    "\n",
    "    # Set the initial length of cdf vector\n",
    "    N = int(np.ceil(-16 / np.log10(theta)))\n",
    "    k = np.arange(1, N + 1)\n",
    "    a = -1 / np.log(1 - theta)\n",
    "    \n",
    "    # Calculate fk and cumulative distribution function (CDF)\n",
    "    fk = np.exp(np.log(a) + k * np.log(theta) - np.log(k))\n",
    "    Fk = np.cumsum(fk)\n",
    "    \n",
    "    # Initialize the output vector\n",
    "    x = np.zeros(n, dtype=int)\n",
    "\n",
    "    for i in range(n):\n",
    "        x[i] = np.sum(u[i] > Fk)  # F^{-1}(u) - 1\n",
    "        \n",
    "        # If x == N, we need to extend the cdf\n",
    "        while x[i] == N:\n",
    "            logf = np.log(a) + (N + 1) * np.log(theta) - np.log(N + 1)\n",
    "            fk = np.append(fk, np.exp(logf))  # extend fk\n",
    "            Fk = np.append(Fk, Fk[N - 1] + fk[N])  # extend Fk\n",
    "            N += 1\n",
    "            x[i] = np.sum(u[i] > Fk)\n",
    "\n",
    "    return x\n",
    "\n",
    "#np.random.uniform(size=n) 用來生成 n 個 [0,1] 區間的均勻隨機數。\n",
    "#np.arange(1, N + 1) 生成 1 到 N 的序列對應 R 中的 1:N。\n",
    "#np.cumsum() 取代了 R 中的 cumsum()，用於計算累積分佈函數。\n",
    "#np.append() 用來在 fk 和 Fk 中添加新元素，擴展隨機分佈。\n",
    "#迴圈內的 np.sum(u[i] > Fk) 用來確定隨機數應該屬於哪個範圍的累積分佈。\n",
    "\n"
   ]
  },
  {
   "cell_type": "code",
   "execution_count": 6,
   "metadata": {},
   "outputs": [
    {
     "name": "stdout",
     "output_type": "stream",
     "text": [
      "[0 2 0 0 1 0 0 0 0 0 0 0 0 0 1 0 2 3 0 0 6 0 0 0 0 1 0 0 0 0 0 0 0 0 1 1 0\n",
      " 0 0 0 0 5 0 0 0 6 1 0 0 0 0 0 0 3 0 0 1 0 0 0 0 0 0 0 0 2 0 0 0 1 0 0 0 6\n",
      " 0 0 0 1 0 0 0 0 2 1 0 0 1 0 0 1 0 0 1 0 0 0 0 0 0 0 0 3 0 0 0 0 0 0 0 0 0\n",
      " 0 0 0 0 0 0 0 0 1 1 0 1 0 0 0 0 1 3 1 0 0 1 0 0 3 0 0 0 2 3 1 0 0 0 0 1 0\n",
      " 0 0 1 0 0 0 0 0 2 0 0 3 0 1 0 1 0 0 0 0 1 1 0 0 0 0 0 3 1 2 0 0 6 0 0 0 0\n",
      " 0 1 0 0 1 0 0 0 0 2 0 1 0 0 1 5 0 2 0 3 0 0 5 4 0 1 0 0 0 0 0 1 1 0 0 0 0\n",
      " 0 0 1 0 0 0 0 1 0 0 0 1 1 0 1 3 2 1 3 0 4 0 1 1 0 1 1 1 1 1 0 1 2 0 1 0 1\n",
      " 1 0 0 0 2 1 1 0 0 0 0 3 0 2 0 0 0 0 0 1 0 0 1 1 0 0 0 0 0 0 0 0 1 1 0 0 2\n",
      " 0 0 0 0 0 6 1 0 0 2 1 0 0 0 0 0 0 0 0 1 0 1 0 0 2 0 0 0 0 5 0 0 0 0 1 3 0\n",
      " 1 0 0 0 0 0 0 0 0 0 0 0 0 1 1 0 1 0 0 1 0 0 0 0 2 0 0 0 0 0 1 0 0 0 0 0 0\n",
      " 0 0 1 0 1 0 0 0 0 0 0 0 0 0 1 0 4 0 0 0 0 0 0 0 1 0 3 0 0 0 1 0 0 0 0 0 0\n",
      " 0 0 0 0 0 1 0 1 0 1 0 0 0 0 1 3 0 0 2 3 0 0 0 0 0 0 0 0 1 0 0 0 0 0 0 0 0\n",
      " 1 0 0 1 0 0 0 0 1 0 0 0 1 0 0 0 0 0 0 0 0 0 0 0 0 0 2 0 2 0 0 1 1 0 0 0 0\n",
      " 0 0 0 0 0 3 0 0 0 0 1 0 1 0 0 0 0 1 1 0 2 0 0 0 0 0 0 0 0 2 0 1 0 0 1 3 0\n",
      " 0 0 0 0 0 0 0 0 0 0 0 0 0 0 0 0 0 0 3 0 0 0 0 0 0 0 0 0 0 0 2 0 1 0 0 1 0\n",
      " 1 0 0 1 0 0 0 0 0 0 1 1 0 0 0 0 0 0 0 0 0 0 1 0 1 0 0 0 0 0 0 0 0 0 0 0 0\n",
      " 0 0 0 0 3 1 2 0 0 0 1 0 0 4 1 0 3 0 0 0 7 1 0 1 0 0 1 0 0 0 1 0 0 0 0 0 2\n",
      " 1 0 0 1 0 0 2 2 0 0 0 0 0 0 1 0 0 1 0 0 0 0 0 2 0 1 0 0 1 1 0 0 0 2 2 0 0\n",
      " 0 0 2 0 0 2 1 0 1 0 0 0 0 3 1 1 1 1 0 0 0 0 0 0 0 1 0 1 0 0 0 0 0 0 0 0 0\n",
      " 0 0 0 0 0 3 0 1 0 0 1 0 0 3 0 0 0 0 0 0 0 0 0 0 0 0 1 0 0 0 0 1 1 0 0 0 0\n",
      " 2 2 0 1 0 1 0 1 0 0 1 0 1 0 0 0 0 3 0 0 2 0 5 0 0 2 1 0 0 0 0 1 1 2 2 0 0\n",
      " 3 0 3 2 0 2 0 0 1 0 0 3 0 0 0 1 0 1 1 0 0 0 1 0 0 0 0 0 0 0 1 1 2 0 0 0 0\n",
      " 0 0 0 0 5 0 0 1 0 2 1 0 0 0 0 1 0 0 0 0 0 1 0 0 0 0 0 0 1 0 1 0 0 2 0 0 1\n",
      " 0 1 1 0 0 0 0 0 0 0 0 0 0 0 2 0 0 0 1 0 0 0 0 1 2 0 0 1 0 0 1 1 0 0 0 0 1\n",
      " 0 0 0 0 0 0 0 1 1 0 4 1 0 3 0 0 0 0 0 0 0 1 2 1 0 0 0 0 0 0 0 1 0 0 0 0 0\n",
      " 0 0 0 1 0 0 0 0 0 0 0 0 0 3 0 0 1 0 2 0 0 0 1 3 0 1 0 0 0 0 0 0 0 0 1 0 0\n",
      " 1 1 2 1 1 1 1 0 0 0 1 0 0 0 0 0 0 0 0 0 0 0 1 1 0 1 0 0 0 0 1 0 0 4 4 0 0\n",
      " 0]\n"
     ]
    }
   ],
   "source": [
    "#產生一服從𝐿𝑜𝑔𝑎𝑟𝑖𝑡ℎ𝑚𝑖𝑐(0.5)分配的隨機樣本\n",
    "n = 1000\n",
    "theta = 0.5 \n",
    "samples = rlogarithmic(n, theta)\n",
    "print(samples)"
   ]
  },
  {
   "cell_type": "code",
   "execution_count": 9,
   "metadata": {},
   "outputs": [
    {
     "name": "stderr",
     "output_type": "stream",
     "text": [
      "C:\\Users\\USER\\AppData\\Local\\Temp\\ipykernel_11716\\476273611.py:20: FutureWarning: pandas.value_counts is deprecated and will be removed in a future version. Use pd.Series(obj).value_counts() instead.\n",
      "  freq_table = pd.value_counts(x, normalize=True).sort_index()\n"
     ]
    },
    {
     "data": {
      "text/html": [
       "<div>\n",
       "<style scoped>\n",
       "    .dataframe tbody tr th:only-of-type {\n",
       "        vertical-align: middle;\n",
       "    }\n",
       "\n",
       "    .dataframe tbody tr th {\n",
       "        vertical-align: top;\n",
       "    }\n",
       "\n",
       "    .dataframe thead th {\n",
       "        text-align: right;\n",
       "    }\n",
       "</style>\n",
       "<table border=\"1\" class=\"dataframe\">\n",
       "  <thead>\n",
       "    <tr style=\"text-align: right;\">\n",
       "      <th></th>\n",
       "      <th>Relative Frequency</th>\n",
       "      <th>Theoretical Probability</th>\n",
       "      <th>Standard Error</th>\n",
       "    </tr>\n",
       "  </thead>\n",
       "  <tbody>\n",
       "    <tr>\n",
       "      <th>1</th>\n",
       "      <td>0.2</td>\n",
       "      <td>0.721</td>\n",
       "      <td>0.142</td>\n",
       "    </tr>\n",
       "    <tr>\n",
       "      <th>3</th>\n",
       "      <td>0.1</td>\n",
       "      <td>0.060</td>\n",
       "      <td>0.075</td>\n",
       "    </tr>\n",
       "  </tbody>\n",
       "</table>\n",
       "</div>"
      ],
      "text/plain": [
       "   Relative Frequency  Theoretical Probability  Standard Error\n",
       "1                 0.2                    0.721           0.142\n",
       "3                 0.1                    0.060           0.075"
      ]
     },
     "execution_count": 9,
     "metadata": {},
     "output_type": "execute_result"
    }
   ],
   "source": [
    "#計算𝑙𝑜𝑔𝑎𝑟𝑖𝑡ℎ𝑚𝑖𝑐(𝑡ℎ𝑒𝑡𝑎) 的機率密度函數以進行比較\n",
    "\n",
    "import numpy as np\n",
    "import pandas as pd\n",
    "\n",
    "# 假設樣本 x, 參數 theta 和樣本大小 n 已經定義\n",
    "theta = 0.5  # 例如，theta 的值\n",
    "x = np.array([0, 0, 0, 0, 1, 0, 1, 0, 0, 3])  # 假設的隨機樣本\n",
    "n = len(x)\n",
    "\n",
    "# 計算唯一的 x 值並排序，忽略 k = 0 的情況\n",
    "k = np.sort(np.unique(x[x > 0]))\n",
    "\n",
    "# 計算對數分布的機率密度函數 (PDF)\n",
    "p = -1 / np.log(1 - theta) * theta**k / k\n",
    "\n",
    "# 計算每個值的標準誤差 (SE)\n",
    "se = np.sqrt(p * (1 - p) / n)\n",
    "\n",
    "# 計算樣本的相對頻率\n",
    "freq_table = pd.value_counts(x, normalize=True).sort_index()\n",
    "\n",
    "# 只保留 k > 0 的頻率\n",
    "freq_table = freq_table[freq_table.index > 0]\n",
    "\n",
    "# 將相對頻率、理論機率和標準誤差合併\n",
    "comparison_table = pd.DataFrame({\n",
    "    'Relative Frequency': freq_table,\n",
    "    'Theoretical Probability': p,\n",
    "    'Standard Error': se\n",
    "}).round(3)\n",
    "\n",
    "comparison_table\n"
   ]
  },
  {
   "cell_type": "code",
   "execution_count": 11,
   "metadata": {},
   "outputs": [
    {
     "name": "stdout",
     "output_type": "stream",
     "text": [
      "平均來說，生成 1000 個 Beta(2, 2) 隨機樣本需要的隨機數為：11600\n"
     ]
    },
    {
     "data": {
      "image/png": "[encoded data removed]",
      "text/plain": [
       "<Figure size 640x480 with 1 Axes>"
      ]
     },
     "metadata": {},
     "output_type": "display_data"
    }
   ],
   "source": [
    "#利用棄卻法產生1000個服從𝐵𝑒𝑡𝑎(𝛼=2,𝛽 =2)的隨機樣本\n",
    "# 呈上題，利用棄卻法，平均來說需要多少個隨機數以產生1000個服從b𝑒𝑡𝑎(𝛼 = 2,𝛽 = 2)的隨機樣本\n",
    "import numpy as np\n",
    "import matplotlib.pyplot as plt\n",
    "\n",
    "# Beta(2, 2) 的概率密度函數\n",
    "def beta_pdf(x):\n",
    "    return 6 * x * (1 - x)\n",
    "\n",
    "# 使用棄卻法生成 Beta(2, 2) 隨機樣本\n",
    "def rejection_sampling_beta(n_samples):\n",
    "    accepted_samples = []\n",
    "    n_trials = 0  # 總共嘗試的次數\n",
    "\n",
    "    while len(accepted_samples) < n_samples:\n",
    "        # 生成均勻分佈的候選樣本\n",
    "        x_candidate = np.random.uniform(0, 1)\n",
    "        y_candidate = np.random.uniform(0, 6)  # 6 是我們設定的 c 值\n",
    "        \n",
    "        n_trials += 1\n",
    "        \n",
    "        # 如果候選樣本被接受，則保存它\n",
    "        if y_candidate <= beta_pdf(x_candidate):\n",
    "            accepted_samples.append(x_candidate)\n",
    "    \n",
    "    return np.array(accepted_samples), n_trials\n",
    "\n",
    "# 產生 1000 個 Beta(2, 2) 隨機樣本\n",
    "n_samples = 1000\n",
    "samples, total_trials = rejection_sampling_beta(n_samples)\n",
    "\n",
    "# 計算平均生成隨機數的次數\n",
    "average_trials_per_sample = total_trials / n_samples\n",
    "total_random_numbers = total_trials * 2  # 每次生成兩個隨機數 (x 和 y)\n",
    "\n",
    "# 顯示結果\n",
    "print(f\"平均來說，生成 {n_samples} 個 Beta(2, 2) 隨機樣本需要的隨機數為：{total_random_numbers}\")\n",
    "\n",
    "# 畫出生成的樣本分佈\n",
    "plt.hist(samples, bins=30, density=True, alpha=0.7, label=\"Generated Samples\")\n",
    "x = np.linspace(0, 1, 1000)\n",
    "plt.plot(x, beta_pdf(x), 'r-', lw=2, label=\"Beta(2,2) PDF\")\n",
    "plt.title(\"Histogram of Generated Beta(2, 2) Samples\")\n",
    "plt.xlabel(\"x\")\n",
    "plt.ylabel(\"Density\")\n",
    "plt.legend()\n",
    "plt.show()\n"
   ]
  },
  {
   "cell_type": "code",
   "execution_count": 24,
   "metadata": {},
   "outputs": [
    {
     "data": {
      "image/png": "[encoded data removed]",
      "text/plain": [
       "<Figure size 640x480 with 1 Axes>"
      ]
     },
     "metadata": {},
     "output_type": "display_data"
    },
    {
     "name": "stdout",
     "output_type": "stream",
     "text": [
      "[0.61420236 0.30385448 0.76857676 0.82180337 0.19867421 0.60439377\n",
      " 0.23485073 0.64650712 0.48408762 0.45722116 0.6561793  0.57015115\n",
      " 0.56703228 0.5251963  0.74398491 0.82490239 0.95159727 0.55803577\n",
      " 0.58368143 0.48759949 0.67682793 0.46843563 0.54274745 0.67206456\n",
      " 0.56572485 0.6956377  0.34552317 0.38611358 0.30012119 0.44933041\n",
      " 0.55404375 0.65429568 0.63588331 0.69493687 0.75967494 0.74038649\n",
      " 0.87848667 0.87667835 0.60303989 0.45215928 0.93413397 0.8619336\n",
      " 0.48166332 0.6316007  0.83697972 0.81521717 0.67194798 0.66667411\n",
      " 0.68151455 0.55711257 0.43945564 0.80726502 0.58953769 0.60303909\n",
      " 0.58653375 0.70359311 0.89036184 0.57837925 0.38537184 0.85855485\n",
      " 0.70116403 0.78656731 0.6034059  0.34344775 0.46125999 0.77909605\n",
      " 0.65795754 0.87765572 0.63555182 0.61917577 0.15323791 0.44448737\n",
      " 0.79441301 0.14275422 0.33183203 0.14706641 0.47892854 0.57692514\n",
      " 0.72255218 0.87150935 0.68773249 0.63638401 0.86620299 0.91863018\n",
      " 0.27969973 0.79579481 0.82419508 0.3306048  0.64125693 0.58321673\n",
      " 0.58807269 0.28151894 0.94025751 0.91209414 0.51038825 0.71024464\n",
      " 0.20980312 0.51608587 0.45926429 0.85147615 0.83757126 0.6699844\n",
      " 0.61310751 0.50057702 0.80117393 0.92223882 0.43190079 0.1384853\n",
      " 0.90025295 0.85207264 0.79356508 0.53665104 0.86181054 0.78241703\n",
      " 0.83542833 0.55872214 0.75614924 0.65891433 0.8889974  0.27721873\n",
      " 0.54913463 0.8171735  0.47474179 0.28171897 0.53389343 0.7755285\n",
      " 0.39627018 0.55057472 0.89030558 0.6591477  0.63827798 0.57939416\n",
      " 0.22881182 0.33422084 0.49934821 0.43209371 0.76843394 0.36606062\n",
      " 0.8142996  0.81768789 0.37860226 0.61238583 0.70583379 0.64976647\n",
      " 0.71987271 0.77791578 0.71529596 0.81859203 0.71050793 0.83575793\n",
      " 0.86094669 0.74059423 0.90558008 0.72137077 0.76773482 0.64669025\n",
      " 0.38093497 0.40137838 0.72824994 0.94293559 0.5600759  0.67178315\n",
      " 0.30315154 0.61140374 0.65218066 0.85732129 0.90524264 0.65784347\n",
      " 0.78728081 0.33608234 0.70417776 0.77389455 0.7173076  0.22589535\n",
      " 0.5884769  0.39403771 0.43997531 0.48042447 0.66164086 0.80877317\n",
      " 0.57683831 0.47561403 0.39880741 0.72693343 0.87561848 0.44661366\n",
      " 0.29778663 0.48080366 0.5696591  0.23325031 0.67580359 0.73928954\n",
      " 0.65168139 0.75372615 0.85857675 0.79983846 0.57797098 0.5411764\n",
      " 0.84710148 0.86505798 0.76582086 0.04836993 0.55567075 0.74287065\n",
      " 0.35445952 0.90157512 0.43160326 0.66379609 0.35154299 0.67610954\n",
      " 0.25887772 0.62992161 0.4703223  0.85211417 0.95425618 0.69558255\n",
      " 0.70279565 0.35691019 0.48169097 0.58581529 0.39305828 0.77032278\n",
      " 0.8238095  0.52087272 0.55890889 0.88135957 0.27017089 0.53115963\n",
      " 0.24944897 0.74524684 0.34786171 0.40421053 0.50446642 0.80680914\n",
      " 0.67386927 0.49450434 0.76274573 0.45401815 0.36854681 0.46093632\n",
      " 0.25911737 0.7978124  0.61657856 0.72012191 0.39269637 0.76803215\n",
      " 0.29010078 0.51175314 0.69797833 0.59454114 0.78789919 0.36842673\n",
      " 0.50695852 0.77051303 0.68282982 0.62583744 0.55906585 0.56162108\n",
      " 0.53007167 0.30586424 0.62811263 0.48404932 0.66034948 0.42269561\n",
      " 0.38547721 0.74691278 0.45941284 0.42726562 0.6275221  0.57982632\n",
      " 0.30354962 0.54915641 0.50249483 0.69633348 0.48594645 0.80066331\n",
      " 0.71012844 0.61668294 0.69557524 0.86329282 0.35745545 0.64544822\n",
      " 0.62770498 0.50285084 0.5704879  0.60816113 0.77846313 0.54816138\n",
      " 0.21994747 0.90836864 0.43820326 0.57148137 0.31104348 0.60061915\n",
      " 0.46865089 0.26273476 0.90345774 0.51624377 0.60704824 0.54532856\n",
      " 0.4736981  0.79291821 0.7330891  0.98795992 0.80238648 0.5452568\n",
      " 0.73476855 0.26400938 0.85920208 0.53588085 0.56077954 0.46931951\n",
      " 0.92053763 0.40209917 0.62880451 0.23966388 0.37185255 0.1771598\n",
      " 0.91272542 0.22417156 0.64399869 0.47682728 0.71789853 0.74344731\n",
      " 0.463399   0.34134311 0.82025657 0.78998986 0.80328173 0.75516041\n",
      " 0.53140839 0.35349406 0.70344759 0.69285616 0.53725683 0.25064068\n",
      " 0.90190578 0.3051739  0.77520733 0.28220297 0.88697589 0.38146311\n",
      " 0.67193829 0.65826167 0.91189016 0.56381311 0.78912659 0.69396711\n",
      " 0.49845814 0.60788765 0.44944936 0.89064841 0.57680994 0.64907763\n",
      " 0.62246422 0.44570725 0.33349113 0.5534798  0.95408018 0.82112438\n",
      " 0.07017626 0.68137876 0.55405918 0.54147951 0.81094475 0.48522879\n",
      " 0.27646021 0.41963515 0.51602794 0.30839654 0.53209441 0.82019777\n",
      " 0.43100727 0.86578732 0.72902373 0.80262216 0.85185838 0.88553959\n",
      " 0.25881784 0.39180015 0.47815089 0.43338834 0.77703379 0.64872388\n",
      " 0.76169504 0.7895191  0.39940988 0.38884324 0.64902027 0.65896967\n",
      " 0.54255128 0.42132662 0.31307327 0.47638225 0.30329231 0.80336918\n",
      " 0.63937056 0.49520254 0.42113723 0.38050649 0.49345133 0.45816511\n",
      " 0.58365945 0.83974398 0.48641542 0.59345782 0.32302889 0.56585278\n",
      " 0.47185925 0.82895805 0.27656654 0.3682988  0.52565249 0.72594916\n",
      " 0.68782001 0.74357403 0.25001914 0.0716295  0.47038796 0.53060151\n",
      " 0.56822689 0.37623567 0.31585599 0.78721149 0.77220321 0.34251479\n",
      " 0.37107282 0.79890028 0.61595225 0.6329933  0.56489421 0.64625077\n",
      " 0.67341943 0.79665841 0.53912665 0.71328568 0.60757797 0.28197838\n",
      " 0.71835526 0.71787455 0.73692625 0.8160866  0.75841609 0.19694649\n",
      " 0.58417671 0.84827966 0.42960521 0.57877852 0.37142719 0.47292738\n",
      " 0.77744583 0.79319792 0.44317644 0.71427723 0.80400041 0.84007484\n",
      " 0.61863057 0.51553544 0.40200302 0.70553484 0.53519015 0.54643988\n",
      " 0.67860902 0.69193101 0.88054097 0.43292746 0.7215398  0.46976628\n",
      " 0.65821299 0.15756431 0.55427813 0.77107499 0.34239616 0.72183946\n",
      " 0.60807369 0.804101   0.6465749  0.4770708  0.83980854 0.75347143\n",
      " 0.83484139 0.56801595 0.79654077 0.27584937 0.55000228 0.69692622\n",
      " 0.78355407 0.64012355 0.59719553 0.93227109 0.54464194 0.75166193\n",
      " 0.1588066  0.3705406  0.94163651 0.63810319 0.72400878 0.95846855\n",
      " 0.76103668 0.77251146 0.65331712 0.3979184  0.85361787 0.6357808\n",
      " 0.439671   0.65844618 0.86442355 0.78800488 0.72810559 0.38993626\n",
      " 0.87045401 0.52664913 0.23837868 0.37608889 0.48016349 0.48869208\n",
      " 0.73402119 0.31042516 0.85611041 0.55333512 0.96639968 0.31403608\n",
      " 0.05223459 0.74489023 0.14602133 0.87397764 0.49951284 0.49262048\n",
      " 0.33747353 0.67866176 0.39592219 0.87752744 0.47386811 0.93595302\n",
      " 0.52337341 0.70550731 0.6295553  0.43608781 0.70509236 0.79943544\n",
      " 0.88301545 0.73213941 0.4702268  0.31512052 0.7875813  0.71727321\n",
      " 0.49648863 0.53185443 0.7747336  0.39889236 0.43015754 0.88943526\n",
      " 0.45242628 0.63454607 0.84444985 0.31482921 0.62048696 0.82431274\n",
      " 0.63369765 0.32961519 0.31712271 0.87155884 0.6535009  0.95259808\n",
      " 0.3477449  0.49399081 0.31377974 0.85959842 0.84673842 0.60223154\n",
      " 0.49340722 0.27781159 0.50537859 0.57551978 0.8326948  0.6596468\n",
      " 0.4104764  0.82854059 0.62459449 0.65143952 0.75714277 0.57106225\n",
      " 0.09947995 0.7947924  0.57111604 0.61333356 0.63482253 0.67444832\n",
      " 0.82897061 0.44010442 0.30519523 0.66688522 0.34268349 0.40604413\n",
      " 0.27227105 0.41333219 0.8549787  0.36884128 0.46830228 0.87862671\n",
      " 0.61199519 0.45112607 0.57345728 0.97122906 0.63896543 0.65134082\n",
      " 0.87850813 0.38371797 0.76237324 0.71512838 0.54179459 0.7944559\n",
      " 0.37644901 0.36833469 0.66500778 0.81200018 0.45041582 0.89957993\n",
      " 0.30456499 0.57472678 0.6216251  0.73778935 0.43654261 0.5141534\n",
      " 0.69226507 0.98009731 0.36060885 0.26355498 0.75094923 0.63769446\n",
      " 0.60929355 0.5278253  0.71696116 0.64378396 0.53734664 0.23078185\n",
      " 0.36376438 0.56166043 0.50236588 0.7179825  0.67635199 0.8957035\n",
      " 0.56685174 0.32716185 0.58882892 0.6525097  0.89278808 0.7467199\n",
      " 0.72200234 0.59212919 0.50150086 0.58900364 0.59396207 0.73364018\n",
      " 0.66462617 0.46066721 0.75338311 0.77821394 0.61227366 0.47602435\n",
      " 0.55833246 0.46959721 0.6835347  0.82574235 0.49377353 0.50201072\n",
      " 0.61308517 0.7653373  0.42333385 0.76487882 0.80051598 0.38498385\n",
      " 0.80357973 0.59825406 0.85153462 0.92903353 0.20383192 0.47278527\n",
      " 0.59127142 0.5112931  0.46878241 0.43263287 0.43515639 0.87264521\n",
      " 0.42223013 0.75037542 0.81073809 0.60838169 0.38495237 0.43011127\n",
      " 0.247428   0.49745658 0.4680299  0.33627003 0.53900759 0.91163712\n",
      " 0.77737961 0.33565188 0.79709322 0.84367549 0.68036691 0.61344063\n",
      " 0.57492993 0.62694777 0.46635007 0.93369773 0.5090188  0.61843575\n",
      " 0.25392143 0.79130964 0.64975248 0.29021319 0.88029207 0.50476966\n",
      " 0.97279953 0.53908645 0.75923133 0.5240072  0.96972188 0.51725423\n",
      " 0.41028477 0.8230517  0.5944861  0.47954289 0.67278428 0.53462541\n",
      " 0.54785102 0.34634639 0.17655204 0.15466441 0.82790034 0.49935922\n",
      " 0.73625066 0.69543851 0.7364     0.28958517 0.71529888 0.80180489\n",
      " 0.93074474 0.31511264 0.73754954 0.52502147 0.28502675 0.78523588\n",
      " 0.80086723 0.58829064 0.8129564  0.46568875 0.83985473 0.82967571\n",
      " 0.64634543 0.68316105 0.64181674 0.80652069 0.35963048 0.91157378\n",
      " 0.45882306 0.53261928 0.60939917 0.75622153 0.47765386 0.8546057\n",
      " 0.40493432 0.57700816 0.30550729 0.39940599 0.80359406 0.30783969\n",
      " 0.67068804 0.69897076 0.69598148 0.54979307 0.82295002 0.97393533\n",
      " 0.3201087  0.48300467 0.50195184 0.51813712 0.44694837 0.60946196\n",
      " 0.96433416 0.52136503 0.64800388 0.48824722 0.57323106 0.81822876\n",
      " 0.36279307 0.69338692 0.51141973 0.59580987 0.3944704  0.83614929\n",
      " 0.35575815 0.7711158  0.80479552 0.22508199 0.91480218 0.63881373\n",
      " 0.88132936 0.94708085 0.39181251 0.59489582 0.6743938  0.85606017\n",
      " 0.44035639 0.76103623 0.4884899  0.48634859 0.90625112 0.48710776\n",
      " 0.83743044 0.61252254 0.16503174 0.94290181 0.29819014 0.47384479\n",
      " 0.73785779 0.42809207 0.75816967 0.66718961 0.45253912 0.91057716\n",
      " 0.23361547 0.68700216 0.31755182 0.36555615 0.90930666 0.73106402\n",
      " 0.58167996 0.87170895 0.48655712 0.45417737 0.45458641 0.81857823\n",
      " 0.62769787 0.39379609 0.83128489 0.40426957 0.52091099 0.76031198\n",
      " 0.79595261 0.74425781 0.75790091 0.51757318 0.59270209 0.70879811\n",
      " 0.36053907 0.69150528 0.29902088 0.24934207 0.25301366 0.87576761\n",
      " 0.45036654 0.51925848 0.60104564 0.60250801 0.73018651 0.85039183\n",
      " 0.59965045 0.87596903 0.69767491 0.61692607 0.49709464 0.72457082\n",
      " 0.5217916  0.48430512 0.80234327 0.68918219 0.82706153 0.52963475\n",
      " 0.63173425 0.60462723 0.37007154 0.55695652 0.71574155 0.24392248\n",
      " 0.52479496 0.42666242 0.828818   0.36195139 0.70018945 0.90581025\n",
      " 0.24247661 0.51868744 0.8038623  0.45378377 0.46787086 0.58293635\n",
      " 0.5584484  0.73325846 0.74692568 0.85252194 0.86425195 0.80523919\n",
      " 0.764889   0.55810702 0.3819636  0.45856282 0.59597578 0.61496185\n",
      " 0.33633323 0.47603379 0.77726055 0.59672345 0.76569146 0.544469\n",
      " 0.72548384 0.74456057 0.41618327 0.44852139 0.62421762 0.52591945\n",
      " 0.56274379 0.31883717 0.74379907 0.65108968 0.5590862  0.52277083\n",
      " 0.66585742 0.64269129 0.91641323 0.64751622 0.63069645 0.52152634\n",
      " 0.67029125 0.83921706 0.35720537 0.82997416 0.82771005 0.66725348\n",
      " 0.36193391 0.70877907 0.18865453 0.36438331 0.68116178 0.92544136\n",
      " 0.38605621 0.71478822 0.30354012 0.52548804 0.70906951 0.50590292\n",
      " 0.61418015 0.7645836  0.60870605 0.32737562 0.89478111 0.88275115\n",
      " 0.60788268 0.38849549 0.62174438 0.5672096  0.89943535 0.77525204\n",
      " 0.48994898 0.7731328  0.7064486  0.68471774 0.45213667 0.63115559\n",
      " 0.69430153 0.16430451 0.3127293  0.65871734 0.89300297 0.5734722\n",
      " 0.34835701 0.447112   0.32122086 0.70475325 0.57121851 0.69102237\n",
      " 0.69733623 0.37849229 0.60451983 0.24328759 0.46273238 0.42757082\n",
      " 0.83282473 0.87358635 0.75928042 0.25926923 0.23481401 0.67786682\n",
      " 0.75930665 0.60599983 0.73634943 0.7182956  0.86913924 0.51925026\n",
      " 0.64264656 0.73372607 0.49830108 0.80672513 0.06231564 0.51924458\n",
      " 0.69717415 0.47554737 0.53527009 0.39536987]\n"
     ]
    }
   ],
   "source": [
    "#運用轉換法產生一𝐵𝑒𝑡𝑎(3,2)的樣本\n",
    "import numpy as np\n",
    "import matplotlib.pyplot as plt\n",
    "from scipy.stats import beta\n",
    "\n",
    "# 生成 Beta(3, 2) 的樣本\n",
    "def generate_beta_samples(alpha, beta_param, n_samples):\n",
    "    # 生成均勻分佈的隨機數\n",
    "    u = np.random.uniform(0, 1, n_samples)\n",
    "    \n",
    "    # 使用反函數將均勻隨機數轉換為 Beta 分佈樣本\n",
    "    samples = beta.ppf(u, alpha, beta_param)\n",
    "    \n",
    "    return samples\n",
    "\n",
    "# 參數設置\n",
    "alpha = 3\n",
    "beta_param = 2\n",
    "n_samples = 1000\n",
    "\n",
    "# 生成樣本\n",
    "samples = generate_beta_samples(alpha, beta_param, n_samples)\n",
    "\n",
    "# 畫出生成的樣本分佈\n",
    "plt.hist(samples, bins=30, density=True, alpha=0.7, label=\"Generated Samples\")\n",
    "x = np.linspace(0, 1, 1000)\n",
    "plt.plot(x, beta.pdf(x, alpha, beta_param), 'r-', lw=2, label=\"Beta(3,2) PDF\")\n",
    "plt.title(\"Histogram of Generated Beta(3, 2) Samples\")\n",
    "plt.xlabel(\"x\")\n",
    "plt.ylabel(\"Density\")\n",
    "plt.legend()\n",
    "plt.show()\n",
    "print(samples)"
   ]
  },
  {
   "cell_type": "code",
   "execution_count": 23,
   "metadata": {},
   "outputs": [
    {
     "data": {
      "image/png": "[encoded data removed]",
      "text/plain": [
       "<Figure size 640x480 with 1 Axes>"
      ]
     },
     "metadata": {},
     "output_type": "display_data"
    }
   ],
   "source": [
    "import numpy as np\n",
    "import matplotlib.pyplot as plt\n",
    "\n",
    "# 設定樣本大小\n",
    "n = 1000\n",
    "a = 3  # Beta 分佈的第一個參數 (alpha)\n",
    "b = 2  # Beta 分佈的第二個參數 (beta)\n",
    "\n",
    "# 生成 n 個服從 Gamma(a, 1) 的隨機數\n",
    "u = np.random.gamma(shape=a, scale=1, size=n)\n",
    "\n",
    "# 生成 n 個服從 Gamma(b, 1) 的隨機數\n",
    "v = np.random.gamma(shape=b, scale=1, size=n)\n",
    "\n",
    "# 計算 Beta 分佈的隨機樣本\n",
    "y = u / (u + v)\n",
    "\n",
    "plt.hist(y, bins=30, density=True, alpha=0.7, label=\"Generated Samples\")\n",
    "x = np.linspace(0, 1, 1000)\n",
    "plt.plot(x, beta.pdf(x, alpha, beta_param), 'r-', lw=2, label=\"Beta(3,2) PDF\")\n",
    "plt.title(\"Histogram of Generated Beta(3, 2) Samples\")\n",
    "plt.xlabel(\"x\")\n",
    "plt.ylabel(\"Density\")\n",
    "plt.legend()\n",
    "plt.show()\n"
   ]
  },
  {
   "cell_type": "code",
   "execution_count": null,
   "metadata": {},
   "outputs": [],
   "source": []
  }
 ],
 "metadata": {
  "kernelspec": {
   "display_name": "Python 3",
   "language": "python",
   "name": "python3"
  },
  "language_info": {
   "codemirror_mode": {
    "name": "ipython",
    "version": 3
   },
   "file_extension": ".py",
   "mimetype": "text/x-python",
   "name": "python",
   "nbconvert_exporter": "python",
   "pygments_lexer": "ipython3",
   "version": "3.11.9"
  }
 },
 "nbformat": 4,
 "nbformat_minor": 2
}
