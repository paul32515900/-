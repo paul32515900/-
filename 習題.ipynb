{
 "cells": [
  {
   "cell_type": "markdown",
   "metadata": {},
   "source": [
    "3.5\n",
    " A discrete random variable X has probability mass function\n",
    " --------------------------\n",
    " x     0   1   2   3   4\n",
    " p(x) 0.1 0.2 0.2 0.2 0.3\n",
    " --------------------------\n",
    " Use the inverse transform method to generate a random sample of size\n",
    " 1000 from the distribution of X. Construct a relative frequency table\n",
    " and compare the empirical with the theoretical probabilities. Repeat\n",
    " using the R sample function."
   ]
  },
  {
   "cell_type": "code",
   "execution_count": 1,
   "metadata": {},
   "outputs": [
    {
     "name": "stdout",
     "output_type": "stream",
     "text": [
      "反轉變換法的相對頻率表：\n",
      "0    0.090\n",
      "1    0.207\n",
      "2    0.209\n",
      "3    0.191\n",
      "4    0.303\n",
      "Name: proportion, dtype: float64\n"
     ]
    },
    {
     "name": "stderr",
     "output_type": "stream",
     "text": [
      "C:\\Users\\USER\\AppData\\Local\\Temp\\ipykernel_25792\\95030645.py:18: FutureWarning: pandas.value_counts is deprecated and will be removed in a future version. Use pd.Series(obj).value_counts() instead.\n",
      "  freq_table_inverse_transform = pd.value_counts(sample_inverse_transform, normalize=True).sort_index()\n"
     ]
    }
   ],
   "source": [
    "import numpy as np\n",
    "import pandas as pd\n",
    "\n",
    "# 定義機率質量函數 (PMF)\n",
    "x_vals = np.array([0, 1, 2, 3, 4])\n",
    "p_vals = np.array([0.1, 0.2, 0.2, 0.2, 0.3])\n",
    "\n",
    "# 計算累積分佈函數 (CDF)\n",
    "cdf_vals = np.cumsum(p_vals)\n",
    "\n",
    "# 生成 1000 個 uniform(0, 1) 隨機數\n",
    "u = np.random.rand(1000)\n",
    "\n",
    "# 使用反轉變換法生成隨機樣本\n",
    "sample_inverse_transform = np.searchsorted(cdf_vals, u)\n",
    "\n",
    "# 構建相對頻率表\n",
    "freq_table_inverse_transform = pd.value_counts(sample_inverse_transform, normalize=True).sort_index()\n",
    "\n",
    "# 顯示結果\n",
    "print(\"反轉變換法的相對頻率表：\")\n",
    "print(freq_table_inverse_transform)\n"
   ]
  },
  {
   "cell_type": "code",
   "execution_count": 2,
   "metadata": {},
   "outputs": [
    {
     "name": "stdout",
     "output_type": "stream",
     "text": [
      "使用 sample 函數的相對頻率表：\n",
      "0    0.111\n",
      "1    0.204\n",
      "2    0.199\n",
      "3    0.203\n",
      "4    0.283\n",
      "Name: proportion, dtype: float64\n"
     ]
    },
    {
     "name": "stderr",
     "output_type": "stream",
     "text": [
      "C:\\Users\\USER\\AppData\\Local\\Temp\\ipykernel_25792\\594542808.py:5: FutureWarning: pandas.value_counts is deprecated and will be removed in a future version. Use pd.Series(obj).value_counts() instead.\n",
      "  freq_table_choice = pd.value_counts(sample_choice, normalize=True).sort_index()\n"
     ]
    }
   ],
   "source": [
    "# 使用 numpy 的 random.choice 函數從 PMF 中進行抽樣\n",
    "sample_choice = np.random.choice(x_vals, size=1000, p=p_vals)\n",
    "\n",
    "# 構建相對頻率表\n",
    "freq_table_choice = pd.value_counts(sample_choice, normalize=True).sort_index()\n",
    "\n",
    "# 顯示結果\n",
    "print(\"使用 sample 函數的相對頻率表：\")\n",
    "print(freq_table_choice)\n"
   ]
  },
  {
   "cell_type": "code",
   "execution_count": 3,
   "metadata": {},
   "outputs": [
    {
     "name": "stdout",
     "output_type": "stream",
     "text": [
      "經驗概率與理論概率比較：\n",
      "   Theoretical Probability  Inverse Transform Frequency  \\\n",
      "0                      0.1                        0.090   \n",
      "1                      0.2                        0.207   \n",
      "2                      0.2                        0.209   \n",
      "3                      0.2                        0.191   \n",
      "4                      0.3                        0.303   \n",
      "\n",
      "   Sample Function Frequency  \n",
      "0                      0.111  \n",
      "1                      0.204  \n",
      "2                      0.199  \n",
      "3                      0.203  \n",
      "4                      0.283  \n"
     ]
    }
   ],
   "source": [
    "# 理論概率表\n",
    "theoretical_prob = pd.Series(p_vals, index=x_vals)\n",
    "\n",
    "# 合併結果比較\n",
    "comparison = pd.DataFrame({\n",
    "    'Theoretical Probability': theoretical_prob,\n",
    "    'Inverse Transform Frequency': freq_table_inverse_transform,\n",
    "    'Sample Function Frequency': freq_table_choice\n",
    "})\n",
    "\n",
    "# 顯示比較結果\n",
    "print(\"經驗概率與理論概率比較：\")\n",
    "print(comparison)\n"
   ]
  },
  {
   "cell_type": "code",
   "execution_count": 6,
   "metadata": {},
   "outputs": [
    {
     "name": "stdout",
     "output_type": "stream",
     "text": [
      "[1 3 4 1 3 3 3 4 2 4 2 4 4 1 4 4 4 2 1 3 2 0 2 2 1 4 4 1 3 4 3 4 4 0 3 2 4\n",
      " 4 4 4 2 2 0 1 2 3 2 4 3 3 1 0 3 4 3 4 1 3 3 0 4 4 3 2 1 1 4 4 3 1 4 3 3 4\n",
      " 2 3 2 4 3 3 4 2 3 1 2 2 4 1 1 2 2 3 3 1 3 3 4 3 2 4 3 3 4 1 0 2 4 3 4 1 4\n",
      " 2 4 2 2 4 2 4 2 2 2 0 4 1 3 1 4 4 4 2 2 1 4 4 4 1 4 1 1 3 4 4 0 2 4 4 4 0\n",
      " 1 4 0 3 4 1 1 1 1 0 3 0 4 4 3 0 0 1 3 4 1 0 0 1 1 3 0 4 4 4 1 2 4 2 1 1 4\n",
      " 4 2 2 0 1 4 1 4 4 1 1 3 2 3 2 2 4 3 2 3 2 3 1 4 3 0 1 4 4 3 1 3 3 0 0 4 1\n",
      " 4 4 4 0 2 4 2 0 4 2 0 2 1 3 4 1 1 4 2 2 1 4 3 4 4 3 4 1 4 4 2 2 4 3 0 2 1\n",
      " 4 0 2 1 1 3 1 3 4 4 2 0 3 2 2 3 1 4 2 4 3 1 3 4 4 4 4 2 4 2 4 4 4 3 3 1 4\n",
      " 4 2 1 2 2 4 1 4 4 2 1 2 2 4 4 4 4 3 1 0 4 2 0 3 4 4 4 3 0 3 4 4 1 1 4 1 4\n",
      " 2 4 2 1 3 4 2 2 4 4 4 3 2 1 0 4 1 4 3 4 1 2 4 1 4 3 3 1 2 0 2 0 0 0 2 4 4\n",
      " 1 4 3 1 0 0 2 2 4 4 1 1 1 4 0 4 3 4 2 1 1 1 1 2 1 3 4 3 3 3 4 4 1 2 4 1 4\n",
      " 2 4 3 2 4 4 3 2 3 3 1 4 4 3 1 4 2 3 1 2 1 3 2 3 0 1 2 0 2 2 2 0 0 1 1 1 2\n",
      " 4 1 4 3 2 4 3 3 3 4 2 4 2 4 4 0 0 4 4 4 3 1 4 4 3 1 4 0 4 3 3 4 2 2 4 1 3\n",
      " 4 4 1 4 2 1 4 2 1 1 0 4 2 2 1 4 4 1 2 4 3 4 4 2 1 1 2 3 4 4 4 3 3 3 2 4 0\n",
      " 3 2 1 2 3 0 0 2 4 1 0 4 0 1 2 3 4 4 3 3 1 4 4 1 2 3 2 1 0 3 4 2 1 4 3 4 4\n",
      " 4 2 1 3 0 4 2 1 4 3 4 1 0 0 3 1 4 4 3 4 4 2 4 3 4 3 3 0 4 3 1 3 1 4 2 4 0\n",
      " 4 0 4 2 1 4 1 2 2 4 1 3 0 4 4 4 0 1 2 0 2 0 4 2 1 0 3 0 4 1 4 2 1 0 4 2 1\n",
      " 2 1 4 0 2 4 4 2 0 4 2 4 1 1 0 2 3 3 4 1 3 1 1 0 2 1 4 3 3 1 4 4 2 2 4 4 3\n",
      " 2 2 0 2 2 4 4 2 3 0 0 2 2 2 4 3 1 4 4 1 3 2 4 4 4 3 4 4 0 4 4 2 4 4 1 3 2\n",
      " 3 2 2 1 0 0 2 3 3 1 4 2 2 4 3 1 2 1 1 4 1 4 1 1 2 3 3 1 1 1 1 4 3 4 1 1 1\n",
      " 4 4 1 3 2 4 4 4 1 4 4 2 4 4 1 4 3 4 4 1 4 4 4 2 4 3 1 4 3 4 2 2 0 2 3 1 2\n",
      " 4 1 4 1 4 1 3 4 2 4 2 0 4 4 2 3 2 3 4 2 1 4 1 2 4 0 0 2 2 2 3 3 1 4 2 4 1\n",
      " 1 1 2 1 1 4 2 1 2 0 1 3 1 1 0 3 2 1 1 0 4 4 4 2 4 4 4 3 3 3 4 0 3 4 1 1 0\n",
      " 2 2 1 4 3 2 3 0 4 2 2 1 1 3 2 2 4 3 0 4 4 1 2 4 2 4 2 1 0 0 4 2 0 1 0 4 1\n",
      " 0 4 1 4 4 1 2 3 4 2 4 4 1 4 4 3 0 3 4 3 2 3 4 2 2 2 2 4 4 4 1 0 3 4 0 3 1\n",
      " 3 0 4 2 2 2 3 3 2 4 4 3 1 4 4 1 0 1 2 0 3 1 4 1 3 3 1 4 2 3 3 4 0 0 3 4 4\n",
      " 3 4 1 4 1 3 1 2 2 4 2 3 0 1 2 0 4 2 4 4 2 4 3 4 1 0 1 3 4 4 1 3 0 2 2 1 0\n",
      " 2]\n"
     ]
    }
   ],
   "source": [
    "sample_inverse_transform = np.searchsorted(cdf_vals, u)\n",
    "print(sample_inverse_transform)"
   ]
  },
  {
   "cell_type": "code",
   "execution_count": 7,
   "metadata": {},
   "outputs": [
    {
     "name": "stdout",
     "output_type": "stream",
     "text": [
      "[1 0 0 2 3 4 1 3 1 3 3 4 4 3 1 2 4 3 4 3 1 1 4 4 1 4 1 4 3 2 2 3 3 1 4 2 3\n",
      " 4 4 0 3 4 2 1 1 0 1 3 0 1 4 4 3 4 4 4 1 0 3 1 4 2 1 3 1 2 3 4 4 2 4 2 1 1\n",
      " 1 0 1 2 2 1 3 4 1 1 2 4 0 0 0 2 3 3 2 1 4 2 3 4 3 2 1 1 1 4 4 1 4 3 1 4 4\n",
      " 4 1 0 4 1 2 1 3 2 3 4 1 4 4 3 3 0 2 1 1 2 1 4 3 1 3 3 4 4 3 1 4 4 1 1 0 4\n",
      " 3 4 4 3 3 1 0 4 4 1 0 0 4 2 4 4 3 4 2 0 3 3 1 2 3 1 1 0 0 4 1 1 2 0 3 0 4\n",
      " 4 0 4 4 3 4 4 4 2 3 2 0 1 4 4 2 3 2 3 3 4 4 4 2 3 4 3 2 4 2 3 3 1 2 2 4 1\n",
      " 2 1 4 3 1 4 3 0 4 1 4 2 2 4 0 1 0 1 3 4 4 4 3 2 4 2 0 1 1 4 4 2 2 4 4 3 0\n",
      " 2 1 1 2 2 2 3 2 4 4 3 4 4 2 3 0 2 4 1 2 3 0 3 4 3 2 3 3 1 2 4 1 4 1 1 4 1\n",
      " 0 3 2 4 0 4 1 3 4 1 1 0 1 2 2 3 3 4 3 3 3 4 4 4 2 4 3 2 0 4 1 4 0 2 3 3 1\n",
      " 4 3 3 2 3 1 3 2 4 0 3 1 4 3 1 4 4 4 3 1 1 4 1 1 2 4 1 1 3 0 3 0 3 1 2 3 3\n",
      " 1 2 3 3 1 3 2 3 0 2 3 4 0 4 1 0 4 3 0 4 3 2 4 1 3 4 4 3 4 4 3 3 4 4 3 2 4\n",
      " 1 4 4 3 2 1 3 3 1 2 1 1 1 2 2 2 1 3 2 3 1 2 2 3 2 1 4 3 4 0 1 4 1 4 4 2 2\n",
      " 2 3 1 2 1 2 3 0 0 1 4 0 4 3 4 2 3 3 3 1 0 3 2 1 0 2 2 2 4 4 2 1 4 2 3 4 4\n",
      " 0 1 1 0 3 2 0 3 3 3 2 1 1 1 1 1 2 4 3 3 4 2 1 0 4 0 1 2 4 2 4 4 3 3 2 3 3\n",
      " 4 4 1 4 3 3 0 2 0 2 1 4 1 0 2 4 3 0 4 4 2 1 4 2 1 3 2 2 4 0 4 2 0 0 3 4 4\n",
      " 4 4 3 2 3 1 2 1 2 1 1 2 2 3 4 0 1 2 2 3 2 1 4 4 4 2 3 4 0 4 4 4 0 3 4 4 1\n",
      " 4 3 1 1 1 1 1 1 3 1 1 1 4 1 4 4 1 1 3 2 3 1 1 1 1 4 3 1 2 3 0 2 1 2 1 2 1\n",
      " 1 4 3 4 4 4 4 0 1 4 1 0 4 4 3 2 4 3 1 2 4 3 2 2 3 4 1 4 1 2 4 2 4 3 4 2 1\n",
      " 3 1 4 1 2 3 0 3 1 3 3 1 1 1 3 1 0 1 4 1 3 4 3 4 1 1 1 2 1 4 3 0 2 1 3 0 2\n",
      " 1 1 4 4 4 1 3 2 3 3 4 4 4 4 0 4 4 4 2 3 4 0 2 2 1 1 2 3 4 0 0 4 1 3 2 2 2\n",
      " 1 4 1 2 1 3 3 3 4 2 2 2 2 3 1 2 3 0 4 3 3 2 4 4 3 4 1 4 2 4 4 3 2 1 3 1 4\n",
      " 2 1 2 4 0 4 2 2 3 2 2 3 4 2 2 4 2 2 3 1 4 2 4 2 0 3 3 2 3 3 2 2 1 1 4 4 3\n",
      " 1 0 4 2 4 1 3 1 1 0 1 4 4 3 0 4 4 2 4 2 1 3 3 4 1 4 1 2 3 2 1 4 0 4 1 1 2\n",
      " 4 3 0 1 4 0 4 4 0 4 4 3 3 2 1 2 4 0 3 4 2 4 4 4 3 1 3 4 4 2 3 4 3 4 3 4 2\n",
      " 1 4 4 2 0 2 4 1 3 2 3 3 4 2 3 1 2 3 3 3 4 0 2 1 1 0 4 4 2 3 0 2 1 2 2 0 1\n",
      " 2 1 4 2 4 1 3 2 2 3 4 4 4 4 4 0 2 1 4 4 4 3 3 4 2 1 4 2 1 1 3 2 4 4 1 2 3\n",
      " 0 4 4 1 0 4 0 3 3 3 1 4 0 1 3 2 1 3 1 2 1 4 1 0 1 4 2 4 1 4 4 4 4 3 2 2 0\n",
      " 3]\n"
     ]
    }
   ],
   "source": [
    "sample_choice = np.random.choice(x_vals, size=1000, p=p_vals)\n",
    "print(sample_choice)"
   ]
  },
  {
   "cell_type": "code",
   "execution_count": 8,
   "metadata": {},
   "outputs": [
    {
     "name": "stdout",
     "output_type": "stream",
     "text": [
      "[1 1 1 0 1 1 1 1 0 1 1 1 0 1 1 1 1 1 1 1 0 1 0 1 1 1 1 0 1 1 1 1 1 1 1 1 1\n",
      " 1 1 1 1 1 1 1 1 1 1 1 1 1 1 1 1 0 1 1 1 1 0 1 1 1 1 1 1 1 1 1 1 1 1 1 1 1\n",
      " 1 1 1 1 1 1 1 1 1 1 1 0 1 1 1 1 1 1 1 1 1 1 1 1 1 1 1 1 1 1 1 1 0 1 1 1 1\n",
      " 1 1 1 1 0 1 1 1 1 1 1 1 1 1 1 1 1 1 1 1 1 1 0 1 1 1 0 0 1 1 1 1 1 1 1 1 1\n",
      " 1 1 1 0 1 1 1 1 1 1 1 1 1 1 1 1 1 1 0 0 1 1 0 1 1 1 1 1 1 1 1 1 1 0 1 1 1\n",
      " 1 1 1 1 1 0 1 1 1 1 1 1 1 1 1 1 1 1 1 1 1 1 1 1 1 1 1 0 1 1 1 1 1 1 1 1 1\n",
      " 1 1 1 0 1 1 0 1 1 1 0 1 1 1 1 1 1 1 0 1 1 1 1 1 1 1 1 1 1 1 1 1 1 1 0 1 0\n",
      " 1 0 1 1 1 1 1 0 1 0 1 1 1 1 1 0 0 1 1 1 1 1 1 1 1 1 1 1 1 1 1 1 1 1 1 0 1\n",
      " 1 1 1 1 1 1 1 1 1 1 1 1 1 1 1 1 1 1 1 1 1 1 1 1 1 1 1 0 1 1 1 1 0 1 1 1 1\n",
      " 1 1 1 1 1 1 1 1 1 1 1 1 1 1 1 1 1 1 1 1 0 1 1 0 1 1 1 1 0 1 1 1 1 1 1 1 1\n",
      " 1 1 1 1 1 0 1 1 1 1 1 1 1 1 1 1 1 1 1 1 1 1 1 1 1 0 1 1 1 0 0 1 1 1 1 1 0\n",
      " 1 1 0 1 1 1 1 1 1 1 1 1 1 1 1 1 1 1 1 1 1 0 1 1 1 1 1 1 0 1 1 1 1 0 1 1 1\n",
      " 1 1 1 0 1 1 1 1 1 1 1 1 0 1 1 1 1 1 0 1 1 1 1 1 1 1 1 1 1 1 1 1 1 1 1 1 0\n",
      " 1 1 1 1 0 1 1 1 1 1 1 1 1 1 1 1 1 1 1 1 1 1 1 1 1 1 1 1 1 1 1 0 1 1 1 1 1\n",
      " 1 1 1 1 1 1 1 1 1 1 0 1 1 1 1 1 0 1 1 1 1 1 1 1 0 0 1 1 1 1 1 1 1 1 1 0 1\n",
      " 1 0 1 1 1 1 1 1 1 1 1 1 1 1 1 1 1 0 1 1 0 1 1 1 1 0 1 1 1 0 1 0 1 0 0 1 1\n",
      " 1 0 1 1 1 1 1 1 0 1 1 1 1 1 1 1 1 1 1 1 1 1 1 1 1 1 1 1 1 0 1 1 1 1 1 1 1\n",
      " 1 1 1 1 1 1 0 1 1 1 1 0 1 1 1 1 0 1 0 1 1 1 1 1 1 1 1 1 1 1 0 1 1 1 1 1 1\n",
      " 1 0 1 1 1 1 1 1 1 1 1 1 0 1 1 1 1 1 1 1 1 0 1 1 1 1 1 1 1 1 1 1 1 1 1 1 1\n",
      " 1 1 1 1 1 1 1 1 1 1 1 1 1 1 1 1 0 1 1 1 1 1 1 1 1 1 0 1 1 1 1 1 1 1 1 1 0\n",
      " 1 1 1 1 1 1 1 1 1 1 1 1 1 1 1 1 1 1 1 0 1 1 1 1 1 1 1 1 0 1 1 1 1 1 1 1 0\n",
      " 1 1 0 1 1 1 0 1 1 1 1 1 1 0 1 1 0 1 1 1 1 1 0 1 0 1 0 1 1 1 1 1 1 1 1 1 1\n",
      " 1 1 1 1 1 1 1 1 1 1 1 1 1 1 1 0 1 1 1 0 1 1 1 1 1 0 1 1 1 1 1 1 1 1 1 1 1\n",
      " 0 1 1 1 1 0 1 1 1 1 1 1 1 1 1 1 1 1 1 1 1 1 0 1 1 1 1 1 0 1 0 1 1 1 1 1 1\n",
      " 1 1 1 1 1 1 1 1 1 1 1 1 1 1 0 1 1 1 1 1 1 1 1 0 0 1 1 1 1 1 1 1 1 1 1 1 1\n",
      " 1 1 1 0 1 0 1 1 1 1 1 1 1 1 1 1 1 1 1 1 1 1 1 1 1 1 1 1 1 1 1 1 1 1 1 1 1\n",
      " 1 1 1 1 1 1 1 0 1 1 0 1 1 1 1 0 1 1 1 1 0 0 1 1 1 1 1 1 1 0 1 1 1 1 1 1 0\n",
      " 1]\n"
     ]
    }
   ],
   "source": [
    "import numpy as np\n",
    "u = np.random.uniform(0,1,1000)\n",
    "x = np.zeros(1000,dtype=int)\n",
    "for i in range(1000):\n",
    "    if(u[i]<0.3):\n",
    "        x[i]= 4\n",
    "    if(u[i]<0.5):\n",
    "        x[i]= 3\n",
    "    if(u[i]<0.7):\n",
    "        x[i]= 2\n",
    "    if(u[i]<0.9):\n",
    "        x[i]= 1\n",
    "    else:\n",
    "        x[i]= 0\n",
    "print(x)\n",
    "    "
   ]
  }
 ],
 "metadata": {
  "kernelspec": {
   "display_name": "Python 3",
   "language": "python",
   "name": "python3"
  },
  "language_info": {
   "codemirror_mode": {
    "name": "ipython",
    "version": 3
   },
   "file_extension": ".py",
   "mimetype": "text/x-python",
   "name": "python",
   "nbconvert_exporter": "python",
   "pygments_lexer": "ipython3",
   "version": "3.11.9"
  }
 },
 "nbformat": 4,
 "nbformat_minor": 2
}
